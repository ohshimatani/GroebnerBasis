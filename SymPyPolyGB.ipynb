{
 "cells": [
  {
   "cell_type": "markdown",
   "metadata": {},
   "source": [
    "# Buchbergerアルゴリズムの実装（Poly型を使用）\n",
    "***"
   ]
  },
  {
   "cell_type": "markdown",
   "metadata": {},
   "source": [
    "**目的：代数方程式の解を求めたい**\n",
    "- 1変数：Euclidの互除法により，GCD計算に帰着できる．\n",
    "- 多変数：GCD計算で発生する割り算の一意性がない.\n"
   ]
  },
  {
   "cell_type": "markdown",
   "metadata": {},
   "source": [
    "term orderを導入し，割り算の一般化である単項簡約を定義\n",
    "- 商と余りの計算→正規化（＝Gのどの要素でも単項簡約できない）"
   ]
  },
  {
   "cell_type": "markdown",
   "metadata": {},
   "source": [
    "**定義：グレブナー基底**\n",
    "- $G$がイデアル$I$のグレブナー基底\n",
    "- $\\forall f(x) \\in \\mathbb{C}[x] ,\\quad f(x) \\in I \\Leftrightarrow f(x) \\to^{*}_G 0$\n",
    "- $\\langle ht(I)\\rangle = \\langle ht(g_1), \\dots , ht(g_r)\\rangle$\n",
    "- $\\forall f(x) \\in I, \\quad \\exists g_i(x) \\in G, ht(g_i) \\mid ht(f)$\n",
    "- $\\forall g_i(x), g_j(x) \\in G, Spoly(g_i, g_j) \\to^{*}_G 0$"
   ]
  },
  {
   "cell_type": "markdown",
   "metadata": {},
   "source": [
    "**Buchbergerアルゴリズムでの判定条件**\n",
    "- $G$がイデアル$I$のグレブナー基底 \n",
    "- $\\Leftrightarrow \\forall g_i(x), g_j(x) \\in G, Spoly(g_i, g_j) \\to^{*}_G 0$"
   ]
  },
  {
   "cell_type": "markdown",
   "metadata": {},
   "source": [
    "## 準備"
   ]
  },
  {
   "cell_type": "code",
   "execution_count": 1,
   "metadata": {},
   "outputs": [],
   "source": [
    "from sympy import *\n",
    "from sympy.abc import x, y, z\n",
    "\n",
    "# monomial = coefficient + term"
   ]
  },
  {
   "cell_type": "code",
   "execution_count": 2,
   "metadata": {},
   "outputs": [],
   "source": [
    "def to_monomial_list(f):\n",
    "    f_gens, f_domain = f.gens, f.domain\n",
    "    string_f = str(f.as_expr())\n",
    "    string_f = string_f.replace('+', ', ')\n",
    "    string_f = string_f.replace('-', ', -')\n",
    "    if string_f[0] == ',':\n",
    "        string_f = string_f[1:]\n",
    "    from sympy.parsing.sympy_parser import parse_expr\n",
    "    monomials = list(parse_expr(string_f))\n",
    "    monomials_list = []\n",
    "    for m in monomials:\n",
    "        m = Poly(m, gens=f_gens, domain=f_domain)\n",
    "        monomials_list.append(m)\n",
    "    return monomials_list"
   ]
  },
  {
   "cell_type": "code",
   "execution_count": 3,
   "metadata": {},
   "outputs": [],
   "source": [
    "def monom2vec(monomial_list, variable_order):\n",
    "    len_v = len(variable_order)\n",
    "    #coeffs = f.coeffs()\n",
    "    vec = []\n",
    "    coeffs = []\n",
    "    for m in monomial_list:\n",
    "        vec.append([degree(m, v) for v in variable_order])\n",
    "        coeffs.append(m.coeffs()[0])\n",
    "    vec = Matrix(vec)\n",
    "    return vec, coeffs"
   ]
  },
  {
   "cell_type": "code",
   "execution_count": 4,
   "metadata": {},
   "outputs": [],
   "source": [
    "def order_sort(M, monomial_vector, coeffs_list):\n",
    "    flag = True\n",
    "    while flag:\n",
    "        flag = False\n",
    "        for i in range(monomial_vector.shape[0] - 1):\n",
    "            v = monomial_vector.row(i) - monomial_vector.row(i+1)\n",
    "            v = M * v.transpose()\n",
    "            for j in range(v.shape[0]):\n",
    "                if v[j] < 0:\n",
    "                    monomial_vector.row_swap(i, i+1)\n",
    "                    coeffs_list[i], coeffs_list[i+1] = coeffs_list[i+1], coeffs_list[i]\n",
    "                    flag = True\n",
    "                    break\n",
    "                elif v[j] > 0:\n",
    "                    break\n",
    "    return monomial_vector, coeffs_list"
   ]
  },
  {
   "cell_type": "markdown",
   "metadata": {},
   "source": [
    "## term order (class)"
   ]
  },
  {
   "cell_type": "code",
   "execution_count": 5,
   "metadata": {},
   "outputs": [],
   "source": [
    "class LexOrder:\n",
    "    def __init__(self, f, variable_order):\n",
    "        self.f = f\n",
    "        monomial_list = to_monomial_list(f)\n",
    "        monomial_vector, coeffs_list = monom2vec(monomial_list, variable_order)\n",
    "        len_v = len(variable_order)\n",
    "        M = eye(len_v)\n",
    "        monomial_vector, coeffs_list = order_sort(M, monomial_vector, coeffs_list)\n",
    "        ht_list = monomial_vector.row(0).tolist()[0]\n",
    "        ht = 1\n",
    "        for v, e in zip(variable_order, ht_list):\n",
    "            ht *= v**e\n",
    "        self.head_term = ht.as_poly(gens=f.gens, domain=f.domain)\n",
    "        self.head_coefficient = Poly(coeffs_list[0], gens=f.gens, domain=f.domain)\n",
    "        self.head_monomial = coeffs_list[0]*ht.as_poly(gens=f.gens, domain=f.domain)\n",
    "    def poly(self):\n",
    "        return self.f\n",
    "    def head_monomial(self):\n",
    "        return self.head_monomial\n",
    "    def head_coefficient(self):\n",
    "        return self.head_coefficient\n",
    "    def head_term(self):\n",
    "        return self.head_term"
   ]
  },
  {
   "cell_type": "code",
   "execution_count": 6,
   "metadata": {},
   "outputs": [],
   "source": [
    "class GLexOrder:\n",
    "    def __init__(self, f, variable_order):\n",
    "        self.f = f\n",
    "        monomial_list = to_monomial_list(f)\n",
    "        monomial_vector, coeffs_list = monom2vec(monomial_list, variable_order)\n",
    "        len_v = len(variable_order)\n",
    "        M = eye(len_v)\n",
    "        M = M.row_insert(0, Matrix([[1 for _ in range(len_v)]]))\n",
    "        monomial_vector, coeffs_list = order_sort(M, monomial_vector, coeffs_list)\n",
    "        ht_list = monomial_vector.row(0).tolist()[0]\n",
    "        ht = 1\n",
    "        for v, e in zip(variable_order, ht_list):\n",
    "            ht *= v**e\n",
    "        self.head_term = ht.as_poly(gens=f.gens, domain=f.domain)\n",
    "        self.head_coefficient = Poly(coeffs_list[0], gens=f.gens, domain=f.domain)\n",
    "        self.head_monomial = coeffs_list[0]*ht.as_poly(gens=f.gens, domain=f.domain)\n",
    "    def poly(self):\n",
    "        return self.f\n",
    "    def head_monomial(self):\n",
    "        return self.head_monomial\n",
    "    def head_coefficient(self):\n",
    "        return self.head_coefficient\n",
    "    def head_term(self):\n",
    "        return self.head_term"
   ]
  },
  {
   "cell_type": "code",
   "execution_count": 7,
   "metadata": {},
   "outputs": [],
   "source": [
    "class GrevLexOrder:\n",
    "    def __init__(self, f, variable_order):\n",
    "        self.f = f\n",
    "        monomial_list = to_monomial_list(f)\n",
    "        monomial_vector, coeffs_list = monom2vec(monomial_list, variable_order)\n",
    "        len_v = len(variable_order)\n",
    "        M = []\n",
    "        for i in range(len_v):\n",
    "            M.append([0 for _ in range(len_v)])\n",
    "            M[i][len_v-i-1] = -1\n",
    "        M = Matrix(M)\n",
    "        M = M.row_insert(0, Matrix([[1 for _ in range(len_v)]]))\n",
    "        monomial_vector, coeffs_list = order_sort(M, monomial_vector, coeffs_list)\n",
    "        ht_list = monomial_vector.row(0).tolist()[0]\n",
    "        ht = 1\n",
    "        for v, e in zip(variable_order, ht_list):\n",
    "            ht *= v**e\n",
    "        self.head_term = ht.as_poly(gens=f.gens, domain=f.domain)\n",
    "        self.head_coefficient = Poly(coeffs_list[0], gens=f.gens, domain=f.domain)\n",
    "        self.head_monomial = coeffs_list[0]*ht.as_poly(gens=f.gens, domain=f.domain)\n",
    "    def poly(self):\n",
    "        return self.f\n",
    "    def head_monomial(self):\n",
    "        return self.head_monomial\n",
    "    def head_coefficient(self):\n",
    "        return self.head_coefficient\n",
    "    def head_term(self):\n",
    "        return self.head_term"
   ]
  },
  {
   "cell_type": "markdown",
   "metadata": {},
   "source": [
    "## 正規化（normalization）"
   ]
  },
  {
   "cell_type": "code",
   "execution_count": 47,
   "metadata": {},
   "outputs": [],
   "source": [
    "def normalization(f, G, variable_order, term_order=LexOrder):\n",
    "    from sympy.solvers.diophantine import divisible\n",
    "    break_flag = False\n",
    "    all_through_flag = True\n",
    "    while True:\n",
    "        f_list = to_monomial_list(f)\n",
    "        for g in G:\n",
    "            _g = term_order(g, variable_order)\n",
    "            ht_g = _g.head_term\n",
    "            for monomial_f in f_list:\n",
    "                if divisible(monomial_f, ht_g):\n",
    "                    h = f - quo(monomial_f, _g.head_monomial)*_g.poly()\n",
    "                    #print(f.as_expr(), h)\n",
    "                    print('f : ', f)\n",
    "                    print('g : ', _g.poly())\n",
    "                    print('h : ', h)\n",
    "                    print('-------------------')\n",
    "                    f = h\n",
    "                    if f == 0:\n",
    "                        return f\n",
    "                    break_flag = True\n",
    "                    all_through_flag = False\n",
    "                    break\n",
    "            if break_flag:\n",
    "                break_flag = False\n",
    "                break\n",
    "        if all_through_flag:\n",
    "            return f\n",
    "        all_through_flag = True"
   ]
  },
  {
   "cell_type": "code",
   "execution_count": 48,
   "metadata": {},
   "outputs": [
    {
     "name": "stdout",
     "output_type": "stream",
     "text": [
      "f :  Poly(x**4 + x**3*z**2 - x**3 + x**2*y**2*z - x**2*z**2 - x*y**2*z - x*y + x + 2*y**4 - 2*y**3 + 3*y - 3, x, y, z, domain='ZZ')\n",
      "g :  Poly(x**3 + x**2*z**2 + x*y**2*z, x, y, z, domain='ZZ')\n",
      "h :  Poly(-x**3 - x**2*z**2 - x*y**2*z - x*y + x + 2*y**4 - 2*y**3 + 3*y - 3, x, y, z, domain='ZZ')\n",
      "-------------------\n",
      "f :  Poly(-x**3 - x**2*z**2 - x*y**2*z - x*y + x + 2*y**4 - 2*y**3 + 3*y - 3, x, y, z, domain='ZZ')\n",
      "g :  Poly(x**3 + x**2*z**2 + x*y**2*z, x, y, z, domain='ZZ')\n",
      "h :  Poly(-x*y + x + 2*y**4 - 2*y**3 + 3*y - 3, x, y, z, domain='ZZ')\n",
      "-------------------\n",
      "f :  Poly(-x*y + x + 2*y**4 - 2*y**3 + 3*y - 3, x, y, z, domain='ZZ')\n",
      "g :  Poly(x - 2*y**3 - 3, x, y, z, domain='ZZ')\n",
      "h :  Poly(x - 2*y**3 - 3, x, y, z, domain='ZZ')\n",
      "-------------------\n",
      "f :  Poly(x - 2*y**3 - 3, x, y, z, domain='ZZ')\n",
      "g :  Poly(x - 2*y**3 - 3, x, y, z, domain='ZZ')\n",
      "h :  Poly(0, x, y, z, domain='ZZ')\n",
      "-------------------\n"
     ]
    },
    {
     "data": {
      "text/latex": [
       "$\\displaystyle \\operatorname{Poly}{\\left( 0, x, y, z, domain=\\mathbb{Z} \\right)}$"
      ],
      "text/plain": [
       "Poly(0, x, y, z, domain='ZZ')"
      ]
     },
     "execution_count": 48,
     "metadata": {},
     "output_type": "execute_result"
    }
   ],
   "source": [
    "h = x**4 + x**3*z**2 - x**3 + x**2*y**2*z - x**2*z**2 - x*y**2*z - x*y + x + 2*y**4 - 2*y**3 + 3*y - 3\n",
    "h = h.as_poly(x, y, z, domain=ZZ)\n",
    "#display(h)\n",
    "\n",
    "f = x**3 + x*y**2*z + x**2*z**2\n",
    "g = x - 2*y**3 - 3\n",
    "f, g = f.as_poly(x, y, z), g.as_poly(x, y, z)\n",
    "normalization(h, [f, g], [x, y, z], LexOrder)"
   ]
  },
  {
   "cell_type": "code",
   "execution_count": 49,
   "metadata": {},
   "outputs": [
    {
     "name": "stdout",
     "output_type": "stream",
     "text": [
      "f :  Poly(x + 2*y**2*z - 5*z, x, y, z, domain='QQ')\n",
      "g :  Poly(-y**2 + z**2 + 1, x, y, z, domain='QQ')\n",
      "h :  Poly(x + 2*z**3 - 3*z, x, y, z, domain='QQ')\n",
      "-------------------\n",
      "f :  Poly(x + 2*z**3 - 3*z, x, y, z, domain='QQ')\n",
      "g :  Poly(x + 2*z**3 - 3*z, x, y, z, domain='QQ')\n",
      "h :  Poly(0, x, y, z, domain='QQ')\n",
      "-------------------\n"
     ]
    }
   ],
   "source": [
    "if __name__ == '__main__':\n",
    "    s = Poly(x + 2*y**2*z - 5*z, x, y, z, domain='QQ')\n",
    "    g1 = Poly(x**2 + y**2 + z**2 - 4, x, y, z, domain='QQ')\n",
    "    g2 = Poly(x**2 + 2*y**2 - 5, x, y, z, domain='QQ')\n",
    "    g3 = Poly(x*z - 1, x, y, z, domain='QQ')\n",
    "    g4 = Poly(-y**2 + z**2 + 1, x, y, z, domain='QQ')\n",
    "    g5 = Poly(x + 2*z**3 - 3*z, x, y, z, domain='QQ')\n",
    "    G = [g1, g2, g3, g4, g5]\n",
    "    normalization(s, G, [x, y, z], LexOrder)"
   ]
  },
  {
   "cell_type": "markdown",
   "metadata": {},
   "source": [
    "## S polynomial の計算"
   ]
  },
  {
   "cell_type": "markdown",
   "metadata": {},
   "source": [
    "$$Spoly(f, g) = \\frac{lcm(ht(f), ht(g))}{hm(f)}f(x) - \\frac{lcm(ht(f), ht(g))}{hm(g)}f(g)$$"
   ]
  },
  {
   "cell_type": "code",
   "execution_count": 50,
   "metadata": {},
   "outputs": [],
   "source": [
    "def S_polynomial(f, g, variable_order, term_order=LexOrder):\n",
    "    f, g = term_order(f, variable_order), term_order(g, variable_order)\n",
    "    LCM = lcm(f.head_term, g.head_term)\n",
    "    Spoly = quo(LCM, f.head_monomial)*f.poly() - quo(LCM, g.head_monomial)*g.poly()\n",
    "    return Spoly"
   ]
  },
  {
   "cell_type": "markdown",
   "metadata": {},
   "source": [
    "## Buchbergerアルゴリズム本体"
   ]
  },
  {
   "cell_type": "code",
   "execution_count": 58,
   "metadata": {},
   "outputs": [],
   "source": [
    "def _BuchbergerAlgorithm(F, variable_order, term_order=LexOrder):\n",
    "    import itertools\n",
    "    G = F\n",
    "    P = list(itertools.combinations(F, 2))\n",
    "    while len(P) != 0:\n",
    "        f, g = term_order(P[0][0], variable_order), term_order(P[0][1], variable_order)\n",
    "        P.remove((P[0][0], P[0][1]))\n",
    "        print('======================')\n",
    "        print('P : ', f.poly(), g.poly())\n",
    "        print('Spoly : ', S_polynomial(f.poly(), g.poly(), variable_order, term_order))\n",
    "        r = normalization(S_polynomial(f.poly(), g.poly(), variable_order, term_order), G, variable_order, term_order)\n",
    "        if r != 0:\n",
    "            print('in')\n",
    "            for h in G:\n",
    "                P.append((h, r))\n",
    "            G.append(r)\n",
    "    return G"
   ]
  },
  {
   "cell_type": "markdown",
   "metadata": {},
   "source": [
    "## 計算例"
   ]
  },
  {
   "cell_type": "code",
   "execution_count": 64,
   "metadata": {},
   "outputs": [
    {
     "name": "stdout",
     "output_type": "stream",
     "text": [
      "======================\n",
      "P :  Poly(x**2 + y**2 + z**2 - 1, x, y, z, domain='QQ') Poly(x*y*z - 1, x, y, z, domain='QQ')\n",
      "Spoly :  Poly(x + y**3*z + y*z**3 - y*z, x, y, z, domain='QQ')\n",
      "in\n",
      "======================\n",
      "P :  Poly(x**2 + y**2 + z**2 - 1, x, y, z, domain='QQ') Poly(x + y**3*z + y*z**3 - y*z, x, y, z, domain='QQ')\n",
      "Spoly :  Poly(-x**3 - x**2*y*z**3 + x**2*y*z + y**5*z + y**3*z**3 - y**3*z, x, y, z, domain='QQ')\n",
      "f :  Poly(-x**3 - x**2*y*z**3 + x**2*y*z + y**5*z + y**3*z**3 - y**3*z, x, y, z, domain='QQ')\n",
      "g :  Poly(x**2 + y**2 + z**2 - 1, x, y, z, domain='QQ')\n",
      "h :  Poly(-x**2*y*z**3 + x**2*y*z + x*y**2 + x*z**2 - x + y**5*z + y**3*z**3 - y**3*z, x, y, z, domain='QQ')\n",
      "-------------------\n",
      "f :  Poly(-x**2*y*z**3 + x**2*y*z + x*y**2 + x*z**2 - x + y**5*z + y**3*z**3 - y**3*z, x, y, z, domain='QQ')\n",
      "g :  Poly(x**2 + y**2 + z**2 - 1, x, y, z, domain='QQ')\n",
      "h :  Poly(x**2*y*z + x*y**2 + x*z**2 - x + y**5*z + 2*y**3*z**3 - y**3*z + y*z**5 - y*z**3, x, y, z, domain='QQ')\n",
      "-------------------\n",
      "f :  Poly(x**2*y*z + x*y**2 + x*z**2 - x + y**5*z + 2*y**3*z**3 - y**3*z + y*z**5 - y*z**3, x, y, z, domain='QQ')\n",
      "g :  Poly(x**2 + y**2 + z**2 - 1, x, y, z, domain='QQ')\n",
      "h :  Poly(x*y**2 + x*z**2 - x + y**5*z + 2*y**3*z**3 - 2*y**3*z + y*z**5 - 2*y*z**3 + y*z, x, y, z, domain='QQ')\n",
      "-------------------\n",
      "f :  Poly(x*y**2 + x*z**2 - x + y**5*z + 2*y**3*z**3 - 2*y**3*z + y*z**5 - 2*y*z**3 + y*z, x, y, z, domain='QQ')\n",
      "g :  Poly(x + y**3*z + y*z**3 - y*z, x, y, z, domain='QQ')\n",
      "h :  Poly(x*z**2 - x + y**3*z**3 - y**3*z + y*z**5 - 2*y*z**3 + y*z, x, y, z, domain='QQ')\n",
      "-------------------\n",
      "f :  Poly(x*z**2 - x + y**3*z**3 - y**3*z + y*z**5 - 2*y*z**3 + y*z, x, y, z, domain='QQ')\n",
      "g :  Poly(x + y**3*z + y*z**3 - y*z, x, y, z, domain='QQ')\n",
      "h :  Poly(-x - y**3*z - y*z**3 + y*z, x, y, z, domain='QQ')\n",
      "-------------------\n",
      "f :  Poly(-x - y**3*z - y*z**3 + y*z, x, y, z, domain='QQ')\n",
      "g :  Poly(x + y**3*z + y*z**3 - y*z, x, y, z, domain='QQ')\n",
      "h :  Poly(0, x, y, z, domain='QQ')\n",
      "-------------------\n",
      "======================\n",
      "P :  Poly(x*y*z - 1, x, y, z, domain='QQ') Poly(x + y**3*z + y*z**3 - y*z, x, y, z, domain='QQ')\n",
      "Spoly :  Poly(-x**2 - x*y*z**3 + x*y*z - y**2, x, y, z, domain='QQ')\n",
      "f :  Poly(-x**2 - x*y*z**3 + x*y*z - y**2, x, y, z, domain='QQ')\n",
      "g :  Poly(x**2 + y**2 + z**2 - 1, x, y, z, domain='QQ')\n",
      "h :  Poly(-x*y*z**3 + x*y*z + z**2 - 1, x, y, z, domain='QQ')\n",
      "-------------------\n",
      "f :  Poly(-x*y*z**3 + x*y*z + z**2 - 1, x, y, z, domain='QQ')\n",
      "g :  Poly(x*y*z - 1, x, y, z, domain='QQ')\n",
      "h :  Poly(x*y*z - 1, x, y, z, domain='QQ')\n",
      "-------------------\n",
      "f :  Poly(x*y*z - 1, x, y, z, domain='QQ')\n",
      "g :  Poly(x*y*z - 1, x, y, z, domain='QQ')\n",
      "h :  Poly(0, x, y, z, domain='QQ')\n",
      "-------------------\n",
      "CPU times: user 221 ms, sys: 8.03 ms, total: 229 ms\n",
      "Wall time: 230 ms\n"
     ]
    },
    {
     "data": {
      "text/plain": [
       "[Poly(x**2 + y**2 + z**2 - 1, x, y, z, domain='QQ'),\n",
       " Poly(x*y*z - 1, x, y, z, domain='QQ'),\n",
       " Poly(x + y**3*z + y*z**3 - y*z, x, y, z, domain='QQ')]"
      ]
     },
     "execution_count": 64,
     "metadata": {},
     "output_type": "execute_result"
    }
   ],
   "source": [
    "%%time\n",
    "f1 = Poly(x**2 + y**2 + z**2 - 1, [x, y, z], domain=QQ)\n",
    "f2 = Poly(x*y*z - 1, [x, y, z], domain=QQ)\n",
    "term_order = GrevLexOrder\n",
    "F = [f1, f2]\n",
    "_BuchbergerAlgorithm(F, [x, y, z], term_order)"
   ]
  },
  {
   "cell_type": "markdown",
   "metadata": {},
   "source": [
    "\\begin{align}\n",
    "f(x) &= x^2 + y^2 + z^2 - 4, \\\\\n",
    "g(x) &= x^2 +2y^2 - 5, \\\\\n",
    "h(x) &= xz - 1\n",
    "\\end{align}"
   ]
  },
  {
   "cell_type": "code",
   "execution_count": 57,
   "metadata": {},
   "outputs": [],
   "source": [
    "f = Poly(x**2 + y**2 + z**2 - 4, (x, y, z), domain=QQ)\n",
    "g = Poly(x**2 + 2*y**2 -5, (x, y, z), domain=QQ)\n",
    "h = Poly(x*z - 1, (x, y, z), domain=QQ)\n",
    "F = [f, g, h]\n",
    "term_order = GrevLexOrder"
   ]
  },
  {
   "cell_type": "code",
   "execution_count": 30,
   "metadata": {},
   "outputs": [
    {
     "name": "stdout",
     "output_type": "stream",
     "text": [
      "-y**2 + z**2 + 1 Poly(-z, x, y, z, domain='QQ') Poly(x + 2*z**3 - 3*z, x, y, z, domain='QQ')\n",
      "-y**2 + z**2 + 1 Poly(-2*z, x, y, z, domain='QQ') Poly(x + 2*z**3 - 3*z, x, y, z, domain='QQ')\n",
      "x + 2*z**3 - 3*z Poly(1, x, y, z, domain='QQ') Poly(0, x, y, z, domain='QQ')\n",
      "x**2 + y**2 + z**2 - 4 Poly(z**2, x, y, z, domain='QQ') Poly(x**2 + y**4 - 4*y**2 - z**4 + 4*z**2, x, y, z, domain='QQ')\n",
      "x**2 + y**2 + z**2 - 4 Poly(1, x, y, z, domain='QQ') Poly(y**4 - 5*y**2 - z**4 + 3*z**2 + 4, x, y, z, domain='QQ')\n",
      "-y**2 + z**2 + 1 Poly(-y**2, x, y, z, domain='QQ') Poly(y**2*z**2 - 4*y**2 - z**4 + 3*z**2 + 4, x, y, z, domain='QQ')\n",
      "-y**2 + z**2 + 1 Poly(-z**2, x, y, z, domain='QQ') Poly(-4*y**2 + 4*z**2 + 4, x, y, z, domain='QQ')\n",
      "-y**2 + z**2 + 1 Poly(4, x, y, z, domain='QQ') Poly(0, x, y, z, domain='QQ')\n",
      "x**2 + y**2 + z**2 - 4 Poly(z**2, x, y, z, domain='QQ') Poly(x**2 + 2*y**4 - y**2*z**2 - 5*y**2 - z**4 + 4*z**2, x, y, z, domain='QQ')\n",
      "x**2 + y**2 + z**2 - 4 Poly(1, x, y, z, domain='QQ') Poly(2*y**4 - y**2*z**2 - 6*y**2 - z**4 + 3*z**2 + 4, x, y, z, domain='QQ')\n",
      "-y**2 + z**2 + 1 Poly(-2*y**2, x, y, z, domain='QQ') Poly(y**2*z**2 - 4*y**2 - z**4 + 3*z**2 + 4, x, y, z, domain='QQ')\n",
      "-y**2 + z**2 + 1 Poly(-z**2, x, y, z, domain='QQ') Poly(-4*y**2 + 4*z**2 + 4, x, y, z, domain='QQ')\n",
      "-y**2 + z**2 + 1 Poly(4, x, y, z, domain='QQ') Poly(0, x, y, z, domain='QQ')\n",
      "x*z - 1 Poly(z**2, x, y, z, domain='QQ') Poly(x*z - y**2 + z**2, x, y, z, domain='QQ')\n",
      "x*z - 1 Poly(1, x, y, z, domain='QQ') Poly(-y**2 + z**2 + 1, x, y, z, domain='QQ')\n",
      "-y**2 + z**2 + 1 Poly(1, x, y, z, domain='QQ') Poly(0, x, y, z, domain='QQ')\n",
      "x**2 + y**2 + z**2 - 4 Poly(-1/2*x, x, y, z, domain='QQ') Poly(3/2*x**2*z + 1/2*x*y**2 + 1/2*x*z**2 - 2*x + y**2*z**3 + z**5 - 4*z**3, x, y, z, domain='QQ')\n",
      "x**2 + y**2 + z**2 - 4 Poly(3/2*z, x, y, z, domain='QQ') Poly(1/2*x*y**2 + 1/2*x*z**2 - 2*x + y**2*z**3 - 3/2*y**2*z + z**5 - 11/2*z**3 + 6*z, x, y, z, domain='QQ')\n",
      "x*z - 1 Poly(1/2*z, x, y, z, domain='QQ') Poly(1/2*x*y**2 - 2*x + y**2*z**3 - 3/2*y**2*z + z**5 - 11/2*z**3 + 13/2*z, x, y, z, domain='QQ')\n",
      "-y**2 + z**2 + 1 Poly(-1/2*x, x, y, z, domain='QQ') Poly(1/2*x*z**2 - 3/2*x + y**2*z**3 - 3/2*y**2*z + z**5 - 11/2*z**3 + 13/2*z, x, y, z, domain='QQ')\n",
      "x*z - 1 Poly(1/2*z, x, y, z, domain='QQ') Poly(-3/2*x + y**2*z**3 - 3/2*y**2*z + z**5 - 11/2*z**3 + 7*z, x, y, z, domain='QQ')\n",
      "-y**2 + z**2 + 1 Poly(-z**3, x, y, z, domain='QQ') Poly(-3/2*x - 3/2*y**2*z + 2*z**5 - 9/2*z**3 + 7*z, x, y, z, domain='QQ')\n",
      "-y**2 + z**2 + 1 Poly(3/2*z, x, y, z, domain='QQ') Poly(-3/2*x + 2*z**5 - 6*z**3 + 11/2*z, x, y, z, domain='QQ')\n",
      "x + 2*z**3 - 3*z Poly(z**2, x, y, z, domain='QQ') Poly(-x*z**2 - 3/2*x - 3*z**3 + 11/2*z, x, y, z, domain='QQ')\n",
      "x*z - 1 Poly(-z, x, y, z, domain='QQ') Poly(-3/2*x - 3*z**3 + 9/2*z, x, y, z, domain='QQ')\n",
      "x + 2*z**3 - 3*z Poly(-3/2, x, y, z, domain='QQ') Poly(0, x, y, z, domain='QQ')\n",
      "x**2 + y**2 + z**2 - 4 Poly(-1/2*x, x, y, z, domain='QQ') Poly(3/2*x**2*z + 1/2*x*y**2 + 1/2*x*z**2 - 2*x + 2*y**2*z**3 - 5*z**3, x, y, z, domain='QQ')\n",
      "x**2 + y**2 + z**2 - 4 Poly(3/2*z, x, y, z, domain='QQ') Poly(1/2*x*y**2 + 1/2*x*z**2 - 2*x + 2*y**2*z**3 - 3/2*y**2*z - 13/2*z**3 + 6*z, x, y, z, domain='QQ')\n",
      "x*z - 1 Poly(1/2*z, x, y, z, domain='QQ') Poly(1/2*x*y**2 - 2*x + 2*y**2*z**3 - 3/2*y**2*z - 13/2*z**3 + 13/2*z, x, y, z, domain='QQ')\n",
      "-y**2 + z**2 + 1 Poly(-1/2*x, x, y, z, domain='QQ') Poly(1/2*x*z**2 - 3/2*x + 2*y**2*z**3 - 3/2*y**2*z - 13/2*z**3 + 13/2*z, x, y, z, domain='QQ')\n",
      "x*z - 1 Poly(1/2*z, x, y, z, domain='QQ') Poly(-3/2*x + 2*y**2*z**3 - 3/2*y**2*z - 13/2*z**3 + 7*z, x, y, z, domain='QQ')\n",
      "-y**2 + z**2 + 1 Poly(-2*z**3, x, y, z, domain='QQ') Poly(-3/2*x - 3/2*y**2*z + 2*z**5 - 9/2*z**3 + 7*z, x, y, z, domain='QQ')\n",
      "-y**2 + z**2 + 1 Poly(3/2*z, x, y, z, domain='QQ') Poly(-3/2*x + 2*z**5 - 6*z**3 + 11/2*z, x, y, z, domain='QQ')\n",
      "x + 2*z**3 - 3*z Poly(z**2, x, y, z, domain='QQ') Poly(-x*z**2 - 3/2*x - 3*z**3 + 11/2*z, x, y, z, domain='QQ')\n",
      "x*z - 1 Poly(-z, x, y, z, domain='QQ') Poly(-3/2*x - 3*z**3 + 9/2*z, x, y, z, domain='QQ')\n",
      "x + 2*z**3 - 3*z Poly(-3/2, x, y, z, domain='QQ') Poly(0, x, y, z, domain='QQ')\n",
      "x**2 + y**2 + z**2 - 4 Poly(-1/2, x, y, z, domain='QQ') Poly(3/2*x*z + 1/2*y**2 - 1/2*z**2 - 2, x, y, z, domain='QQ')\n",
      "x*z - 1 Poly(3/2, x, y, z, domain='QQ') Poly(1/2*y**2 - 1/2*z**2 - 1/2, x, y, z, domain='QQ')\n",
      "-y**2 + z**2 + 1 Poly(-1/2, x, y, z, domain='QQ') Poly(0, x, y, z, domain='QQ')\n",
      "-y**2 + z**2 + 1 Poly(1/2*x, x, y, z, domain='QQ') Poly(-1/2*x*z**2 - 1/2*x + 3/2*y**2*z - z**5 - z**3, x, y, z, domain='QQ')\n",
      "x*z - 1 Poly(-1/2*z, x, y, z, domain='QQ') Poly(-1/2*x + 3/2*y**2*z - z**5 - z**3 - 1/2*z, x, y, z, domain='QQ')\n",
      "-y**2 + z**2 + 1 Poly(-3/2*z, x, y, z, domain='QQ') Poly(-1/2*x - z**5 + 1/2*z**3 + z, x, y, z, domain='QQ')\n",
      "x + 2*z**3 - 3*z Poly(-1/2*z**2, x, y, z, domain='QQ') Poly(1/2*x*z**2 - 1/2*x - z**3 + z, x, y, z, domain='QQ')\n",
      "x*z - 1 Poly(1/2*z, x, y, z, domain='QQ') Poly(-1/2*x - z**3 + 3/2*z, x, y, z, domain='QQ')\n",
      "x + 2*z**3 - 3*z Poly(-1/2, x, y, z, domain='QQ') Poly(0, x, y, z, domain='QQ')\n",
      "CPU times: user 632 ms, sys: 13.6 ms, total: 646 ms\n",
      "Wall time: 646 ms\n"
     ]
    },
    {
     "data": {
      "text/plain": [
       "[Poly(x**2 + y**2 + z**2 - 4, x, y, z, domain='QQ'),\n",
       " Poly(x**2 + 2*y**2 - 5, x, y, z, domain='QQ'),\n",
       " Poly(x*z - 1, x, y, z, domain='QQ'),\n",
       " Poly(-y**2 + z**2 + 1, x, y, z, domain='QQ'),\n",
       " Poly(x + 2*z**3 - 3*z, x, y, z, domain='QQ')]"
      ]
     },
     "execution_count": 30,
     "metadata": {},
     "output_type": "execute_result"
    }
   ],
   "source": [
    "%%time\n",
    "_BuchbergerAlgorithm(F, [x, y, z], term_order)"
   ]
  },
  {
   "cell_type": "markdown",
   "metadata": {},
   "source": [
    "\\begin{align}\n",
    "f(x) &= x^2 + y^2 + z^2 - 1, \\\\\n",
    "g(x) &= xz^2 + y^2z - 1\n",
    "\\end{align}"
   ]
  },
  {
   "cell_type": "code",
   "execution_count": 14,
   "metadata": {},
   "outputs": [],
   "source": [
    "f = Poly(x**2 + y**2 + z**2 - 1, x, y, z, domain=QQ)\n",
    "g = Poly(x*z**2 + y**2*z - 1, x, y, z, domain=QQ)\n",
    "F = [f, g]\n",
    "term_order = GLexOrder"
   ]
  },
  {
   "cell_type": "code",
   "execution_count": 15,
   "metadata": {},
   "outputs": [
    {
     "name": "stdout",
     "output_type": "stream",
     "text": [
      "CPU times: user 351 ms, sys: 2.06 ms, total: 353 ms\n",
      "Wall time: 352 ms\n"
     ]
    },
    {
     "data": {
      "text/plain": [
       "[Poly(x**2 + y**2 + z**2 - 1, x, y, z, domain='QQ'),\n",
       " Poly(x*z**2 + y**2*z - 1, x, y, z, domain='QQ'),\n",
       " Poly(-x*y**2*z + x + y**2*z**2 + z**4 - z**2, x, y, z, domain='QQ'),\n",
       " Poly(x*z + y**4*z + y**2*z**3 - y**2 + z**5 - z**3, x, y, z, domain='QQ')]"
      ]
     },
     "execution_count": 15,
     "metadata": {},
     "output_type": "execute_result"
    }
   ],
   "source": [
    "%%time\n",
    "_BuchbergerAlgorithm(F, [x, y, z], term_order)"
   ]
  },
  {
   "cell_type": "code",
   "execution_count": null,
   "metadata": {},
   "outputs": [],
   "source": []
  },
  {
   "cell_type": "code",
   "execution_count": null,
   "metadata": {},
   "outputs": [],
   "source": []
  },
  {
   "cell_type": "markdown",
   "metadata": {},
   "source": [
    "---\n",
    "---"
   ]
  },
  {
   "cell_type": "markdown",
   "metadata": {},
   "source": [
    "# Buchbergerアルゴリズムの改良（criteria）\n",
    "***"
   ]
  },
  {
   "cell_type": "markdown",
   "metadata": {},
   "source": [
    "## Buchbergerアルゴリズムの書き換え"
   ]
  },
  {
   "cell_type": "code",
   "execution_count": 16,
   "metadata": {},
   "outputs": [],
   "source": [
    "def BuchbergerAlgorithm(F, variable_order, term_order=LexOrder):\n",
    "    original_F = F\n",
    "    G = [F[0]]\n",
    "    P = []\n",
    "    F = F[1:]\n",
    "    m = 0\n",
    "    while len(F) != 0:\n",
    "        G.append(F[0])\n",
    "        F = F[1:]\n",
    "        P = Update_normal(P, m)\n",
    "        m += 1\n",
    "    while len(P) != 0:\n",
    "        i, j = P[0][0], P[0][1]\n",
    "        f, g = term_order(G[i], variable_order), term_order(G[j], variable_order)\n",
    "        P = P[1:]\n",
    "        r = normalization(S_polynomial(f.poly(), g.poly(), variable_order, term_order), G, variable_order, term_order)\n",
    "        if r != 0:\n",
    "            G.append(r)\n",
    "            P = Update_normal(P, m)\n",
    "            m += 1\n",
    "    return G"
   ]
  },
  {
   "cell_type": "code",
   "execution_count": 17,
   "metadata": {},
   "outputs": [],
   "source": [
    "def Update_normal(P, m):\n",
    "    for i in range(m+1):\n",
    "        P.append((i, m+1))\n",
    "    return P"
   ]
  },
  {
   "cell_type": "markdown",
   "metadata": {},
   "source": [
    "originalでは，$Spoly \\to 0$にならなかった$r(x)$で全てのペアを追加していたが，\n",
    "以下の条件より，$Spoly \\to 0$を満たさないペアがあらかじめわかる．\n",
    "- $\\forall f(x), g(x) \\in \\mathbb{C}[x], \\quad \\gcd(ht(f), ht(g))=1, \\quad Spoly(f, g) \\to^{*}_{(f, g)} 0$"
   ]
  },
  {
   "cell_type": "markdown",
   "metadata": {},
   "source": [
    "この条件に基づいて，ペアの更新条件を次のようにできる．\n",
    "- $\\Leftrightarrow lcm(ht(f), ht(g)) \\neq ht(f), ht(g) $のもの"
   ]
  },
  {
   "cell_type": "code",
   "execution_count": 18,
   "metadata": {},
   "outputs": [],
   "source": [
    "def BuchbergerAlgorithm_criteria1(F, variable_order, term_order=LexOrder):\n",
    "    G = [F[0]]\n",
    "    P = []\n",
    "    F = F[1:]\n",
    "    m = 0\n",
    "    while len(F) != 0:\n",
    "        G.append(F[0])\n",
    "        F = F[1:]\n",
    "        P = Update_criteria1(P, m, G, variable_order, term_order)\n",
    "        m += 1\n",
    "    while len(P) != 0:\n",
    "        i, j = P[0][0], P[0][1]\n",
    "        f, g = term_order(G[i], variable_order), term_order(G[j], variable_order)\n",
    "        P = P[1:]\n",
    "        r = normalization(S_polynomial(f.poly(), g.poly(), variable_order, term_order), G, variable_order, term_order)\n",
    "        if r != 0:\n",
    "            G.append(r)\n",
    "            P = Update_criteria1(P, m, G, variable_order, term_order)\n",
    "            m += 1\n",
    "    return G"
   ]
  },
  {
   "cell_type": "code",
   "execution_count": 19,
   "metadata": {},
   "outputs": [],
   "source": [
    "def Update_criteria1(P, m, G, variable_order, term_order):\n",
    "    ht_g1 = term_order(G[m+1], variable_order).head_term\n",
    "    for i in range(m+1):\n",
    "        ht_g2 = term_order(G[i], variable_order).head_term\n",
    "        if lcm(ht_g1, ht_g2) != ht_g1 * ht_g2:\n",
    "            P.append((i, m+1))\n",
    "    return P"
   ]
  },
  {
   "cell_type": "markdown",
   "metadata": {},
   "source": [
    "更に，次のような十分条件も考えられる．\n",
    "- $T_{ij}=lcm(ht(g_i), ht(g_j))$とし，\n",
    "\\begin{align}\n",
    "F(k; i, j) & \\Leftrightarrow k<i, \\quad T_{jk} = T_{ij} \\\\\n",
    "M(k; i, j) & \\Leftrightarrow k<j, \\quad (ht(g_k) \\mid T_{ij}) \\land (T_{jk} \\neq T_{ij}) \\\\\n",
    "B(k; i, j) & \\Leftrightarrow k>j, \\quad (ht(g_k) \\mid T_{ij}) \\land (T_{ik} \\neq T_{ij}, T_{jk} \\neq T_{ij})\n",
    "\\end{align}\n",
    "とする．\n",
    "- このとき，\n",
    "$$\\forall(i, j) \\in \\{(i, j) : \\not\\exists k, F \\lor M \\lor B \\}, Spoly(g_i, g_j) \\to^*_G 0$$"
   ]
  },
  {
   "cell_type": "code",
   "execution_count": 20,
   "metadata": {},
   "outputs": [],
   "source": [
    "def BuchbergerAlgorithm_criteria2(F, variable_order, term_order=LexOrder):\n",
    "    G = [F[0]]\n",
    "    P = []\n",
    "    F = F[1:]\n",
    "    m = 0\n",
    "    while len(F) != 0:\n",
    "        G.append(F[0])\n",
    "        F = F[1:]\n",
    "        P = Update_criteria2(P, m, G, variable_order, term_order)\n",
    "        m += 1\n",
    "    while len(P) != 0:\n",
    "        i, j = P[0][0], P[0][1]\n",
    "        f, g = term_order(G[i], variable_order), term_order(G[j], variable_order)\n",
    "        P = P[1:]\n",
    "        r = normalization(S_polynomial(f.poly(), g.poly(), variable_order, term_order), G, variable_order, term_order)\n",
    "        if r != 0:\n",
    "            G.append(r)\n",
    "            P = Update_criteria2(P, m, G, variable_order, term_order)\n",
    "            m += 1\n",
    "    return G"
   ]
  },
  {
   "cell_type": "code",
   "execution_count": 21,
   "metadata": {},
   "outputs": [],
   "source": [
    "def Update_criteria2(P, m, G, variable_order, term_order=LexOrder):\n",
    "    from sympy.solvers.diophantine import divisible\n",
    "    ht_g_mp1 = term_order(G[m+1], variable_order).head_term\n",
    "    # B成立を除去\n",
    "    for i, j in P:\n",
    "        ht_g_i = term_order(G[i], variable_order).head_term\n",
    "        ht_g_j = term_order(G[j], variable_order).head_term\n",
    "        if divisible(lcm(ht_g_i, ht_g_j), ht_g_mp1):\n",
    "            if lcm(ht_g_i, ht_g_j) != lcm(ht_g_i, ht_g_mp1):\n",
    "                if lcm(ht_g_i, ht_g_j) != lcm(ht_g_j, ht_g_mp1):\n",
    "                    P.remove((i, j))\n",
    "    for i in range(m+1):\n",
    "        continue_flag = False\n",
    "        ht_g_i = term_order(G[i], variable_order).head_term\n",
    "        # F成立を確認\n",
    "        for k in range(i):\n",
    "            ht_g_k = term_order(G[k], variable_order).head_term\n",
    "            if lcm(ht_g_k, ht_g_mp1) == lcm(ht_g_i, ht_g_mp1):\n",
    "                continue_flag = True\n",
    "                break\n",
    "        if continue_flag:\n",
    "            continue\n",
    "        # M成立を確認\n",
    "        for k in range(m+1):\n",
    "            if k == i:\n",
    "                # k not= \"i\" ?\n",
    "                continue\n",
    "            ht_g_k = term_order(G[k], variable_order).head_term\n",
    "            if divisible(lcm(ht_g_i, ht_g_mp1), ht_g_k):\n",
    "                if lcm(ht_g_mp1, ht_g_k) != lcm(ht_g_i, ht_g_mp1):\n",
    "                    continue_flag = True\n",
    "                    break\n",
    "        if continue_flag:\n",
    "            continue\n",
    "        # Criteria1 check\n",
    "        if lcm(ht_g_i, ht_g_mp1) != ht_g_i * ht_g_mp1:\n",
    "            P.append((i, m+1))\n",
    "    return P"
   ]
  },
  {
   "cell_type": "markdown",
   "metadata": {
    "heading_collapsed": true
   },
   "source": [
    "## 計算例"
   ]
  },
  {
   "cell_type": "markdown",
   "metadata": {
    "hidden": true
   },
   "source": [
    "\\begin{align}\n",
    "f(x) &= x^2 + y^2 + z^2 - 4, \\\\\n",
    "g(x) &= x^2 +2y^2 - 5, \\\\\n",
    "h(x) &= xz - 1\n",
    "\\end{align}"
   ]
  },
  {
   "cell_type": "code",
   "execution_count": 22,
   "metadata": {
    "hidden": true
   },
   "outputs": [],
   "source": [
    "f = Poly(x**2 + y**2 + z**2 - 4, (x, y, z), domain=QQ)\n",
    "g = Poly(x**2 + 2*y**2 -5, (x, y, z), domain=QQ)\n",
    "h = Poly(x*z - 1, (x, y, z), domain=QQ)\n",
    "F = [f, g, h]\n",
    "term_order = LexOrder"
   ]
  },
  {
   "cell_type": "code",
   "execution_count": 23,
   "metadata": {
    "hidden": true
   },
   "outputs": [
    {
     "name": "stdout",
     "output_type": "stream",
     "text": [
      "[(0, 1), (0, 2), (1, 2)]\n",
      "CPU times: user 642 ms, sys: 4.94 ms, total: 647 ms\n",
      "Wall time: 646 ms\n"
     ]
    },
    {
     "data": {
      "text/plain": [
       "[Poly(x**2 + y**2 + z**2 - 4, x, y, z, domain='QQ'),\n",
       " Poly(x**2 + 2*y**2 - 5, x, y, z, domain='QQ'),\n",
       " Poly(x*z - 1, x, y, z, domain='QQ'),\n",
       " Poly(-y**2 + z**2 + 1, x, y, z, domain='QQ'),\n",
       " Poly(x + 2*z**3 - 3*z, x, y, z, domain='QQ'),\n",
       " Poly(-2*z**4 + 3*z**2 - 1, x, y, z, domain='QQ')]"
      ]
     },
     "execution_count": 23,
     "metadata": {},
     "output_type": "execute_result"
    }
   ],
   "source": [
    "%%time\n",
    "BuchbergerAlgorithm(F, [x, y, z], term_order)"
   ]
  },
  {
   "cell_type": "code",
   "execution_count": 24,
   "metadata": {
    "hidden": true
   },
   "outputs": [
    {
     "name": "stdout",
     "output_type": "stream",
     "text": [
      "CPU times: user 228 ms, sys: 1.96 ms, total: 230 ms\n",
      "Wall time: 229 ms\n"
     ]
    },
    {
     "data": {
      "text/plain": [
       "[Poly(x**2 + y**2 + z**2 - 4, x, y, z, domain='QQ'),\n",
       " Poly(x**2 + 2*y**2 - 5, x, y, z, domain='QQ'),\n",
       " Poly(x*z - 1, x, y, z, domain='QQ'),\n",
       " Poly(-y**2 + z**2 + 1, x, y, z, domain='QQ'),\n",
       " Poly(x + 2*z**3 - 3*z, x, y, z, domain='QQ'),\n",
       " Poly(-2*z**4 + 3*z**2 - 1, x, y, z, domain='QQ')]"
      ]
     },
     "execution_count": 24,
     "metadata": {},
     "output_type": "execute_result"
    }
   ],
   "source": [
    "%%time\n",
    "BuchbergerAlgorithm_criteria1(F, [x, y, z], term_order)"
   ]
  },
  {
   "cell_type": "code",
   "execution_count": 25,
   "metadata": {
    "hidden": true
   },
   "outputs": [
    {
     "name": "stdout",
     "output_type": "stream",
     "text": [
      "CPU times: user 285 ms, sys: 2.64 ms, total: 288 ms\n",
      "Wall time: 286 ms\n"
     ]
    },
    {
     "data": {
      "text/plain": [
       "[Poly(x**2 + y**2 + z**2 - 4, x, y, z, domain='QQ'),\n",
       " Poly(x**2 + 2*y**2 - 5, x, y, z, domain='QQ'),\n",
       " Poly(x*z - 1, x, y, z, domain='QQ'),\n",
       " Poly(-y**2 + z**2 + 1, x, y, z, domain='QQ'),\n",
       " Poly(x + 2*z**3 - 3*z, x, y, z, domain='QQ'),\n",
       " Poly(-2*z**4 + 3*z**2 - 1, x, y, z, domain='QQ')]"
      ]
     },
     "execution_count": 25,
     "metadata": {},
     "output_type": "execute_result"
    }
   ],
   "source": [
    "%%time\n",
    "BuchbergerAlgorithm_criteria2(F, [x, y, z], term_order)"
   ]
  },
  {
   "cell_type": "markdown",
   "metadata": {
    "hidden": true
   },
   "source": [
    "---\n",
    "---"
   ]
  },
  {
   "cell_type": "markdown",
   "metadata": {},
   "source": [
    "# Buchbergerアルゴリズムの改良（suger strategy）\n",
    "***"
   ]
  },
  {
   "cell_type": "markdown",
   "metadata": {},
   "source": [
    "今までは，ペアの取り出しはランダム（実装では頭から）だったが，ペア数をできるだけ増やさないようにペア選択の順番を工夫する．"
   ]
  },
  {
   "cell_type": "markdown",
   "metadata": {},
   "source": [
    "**normal strategy (by Buchberger)**\n",
    "- 項順序に関して$T_{ij}$の少ない順に選択する戦略（$T_{ij}=lcm(ht(g_i), ht(g_j))$）"
   ]
  },
  {
   "cell_type": "markdown",
   "metadata": {},
   "source": [
    "**suger strategy (by CoCoA開発者)**\n",
    "- S-polynomialに対して，以下で定義されるsuger s の小さい順に選択.　sugerが等しい場合には，normal strategyに基づいて選択する．\n",
    "    - 入力多項式$f$に対し，$$ s_j = tdeg(f)$$\n",
    "    - tが単項式のとき，$$ s_{tf} = s_{f} + tdeg(t)$$\n",
    "    - 多項式の加法に関して，$$s_{f+g} = \\max(s_f, s_g)$$"
   ]
  },
  {
   "cell_type": "code",
   "execution_count": 26,
   "metadata": {},
   "outputs": [],
   "source": [
    "def BuchbergerAlgorithm_normalStrategy(F, variable_order, term_order=LexOrder):\n",
    "    G = [F[0]]\n",
    "    P = []\n",
    "    F = F[1:]\n",
    "    m = 0\n",
    "    while len(F) != 0:\n",
    "        G.append(F[0])\n",
    "        F = F[1:]\n",
    "        P = Update_criteria2_normalStrategy(P, m, G, variable_order, term_order)\n",
    "        m += 1\n",
    "    while len(P) != 0:\n",
    "        i, j = P[0][0][0], P[0][0][1]\n",
    "        f, g = term_order(G[i], variable_order), term_order(G[j], variable_order)\n",
    "        P = P[1:]\n",
    "        r = normalization(S_polynomial(f.poly(), g.poly(), variable_order, term_order), G, variable_order, term_order)\n",
    "        if r != 0:\n",
    "            G.append(r)\n",
    "            P = Update_criteria2_normalStrategy(P, m, G, variable_order, term_order)\n",
    "            m += 1\n",
    "    return G"
   ]
  },
  {
   "cell_type": "markdown",
   "metadata": {},
   "source": [
    "## critria 2 の改良（for normal strategy）"
   ]
  },
  {
   "cell_type": "code",
   "execution_count": 27,
   "metadata": {},
   "outputs": [],
   "source": [
    "def Update_criteria2_normalStrategy(P, m, G, variable_order, term_order=LexOrder):\n",
    "    from sympy.solvers.diophantine import divisible\n",
    "    if term_order == LexOrder:\n",
    "        order_key = 'lex'\n",
    "    elif term_order == GLexOrder:\n",
    "        order_key = 'grlex'\n",
    "    elif term_order == GrevLexOrder:\n",
    "        order_key = 'grevlex'\n",
    "    ht_g_mp1 = term_order(G[m+1], variable_order).head_term\n",
    "    # B成立を除去\n",
    "    for (i, j), LCM_ij in P:\n",
    "        ht_g_i = term_order(G[i], variable_order).head_term\n",
    "        ht_g_j = term_order(G[j], variable_order).head_term\n",
    "        #LCM_ij = lcm(ht_g_i, ht_g_j)\n",
    "        if divisible(LCM_ij, ht_g_mp1):\n",
    "            if LCM_ij != lcm(ht_g_i, ht_g_mp1):\n",
    "                if LCM_ij != lcm(ht_g_j, ht_g_mp1):\n",
    "                    P.remove(((i, j), LCM_ij))\n",
    "    for i in range(m+1):\n",
    "        continue_flag = False\n",
    "        ht_g_i = term_order(G[i], variable_order).head_term\n",
    "        LCM_i_mp1 = lcm(ht_g_i, ht_g_mp1)\n",
    "        # F成立を確認\n",
    "        for k in range(i):\n",
    "            ht_g_k = term_order(G[k], variable_order).head_term\n",
    "            if lcm(ht_g_k, ht_g_mp1) == LCM_i_mp1:\n",
    "                continue_flag = True\n",
    "                break\n",
    "        if continue_flag:\n",
    "            continue\n",
    "        # M成立を確認\n",
    "        for k in range(m+1):\n",
    "            if k == i:\n",
    "                # k not= \"i\" ?\n",
    "                continue\n",
    "            ht_g_k = term_order(G[k], variable_order).head_term\n",
    "            if divisible(LCM_i_mp1, ht_g_k):\n",
    "                if lcm(ht_g_mp1, ht_g_k) != LCM_i_mp1:\n",
    "                    continue_flag = True\n",
    "                    break\n",
    "        if continue_flag:\n",
    "            continue\n",
    "        # Criteria1 check\n",
    "        if LCM_i_mp1 != ht_g_i * ht_g_mp1:\n",
    "            if len(P) == 0:\n",
    "                P.append(((i, m+1), LCM_i_mp1))\n",
    "                continue\n",
    "            for k in range(len(P)):\n",
    "                larger_one = (LCM_i_mp1 + P[k][1]).as_expr().as_ordered_terms(order=order_key)[0]\n",
    "                LCM_is_large = larger_one == LCM_i_mp1.as_expr()\n",
    "                if LCM_is_large:\n",
    "                    continue\n",
    "                else:\n",
    "                    P.insert(k, ((i, m+1), LCM_i_mp1))\n",
    "                    break\n",
    "            else:\n",
    "                P.append(((i, m+1), LCM_i_mp1))\n",
    "    return P"
   ]
  },
  {
   "cell_type": "code",
   "execution_count": 28,
   "metadata": {},
   "outputs": [],
   "source": [
    "f = Poly(x**2 + y**2 + z**2 - 4, (x, y, z), domain=QQ)\n",
    "g = Poly(x**2 + 2*y**2 -5, (x, y, z), domain=QQ)\n",
    "h = Poly(x*z - 1, (x, y, z), domain=QQ)\n",
    "F = [f, g, h]\n",
    "term_order = GLexOrder"
   ]
  },
  {
   "cell_type": "code",
   "execution_count": 29,
   "metadata": {},
   "outputs": [
    {
     "name": "stdout",
     "output_type": "stream",
     "text": [
      "[(0, 1), (0, 2), (1, 2)]\n",
      "CPU times: user 503 ms, sys: 3.52 ms, total: 507 ms\n",
      "Wall time: 505 ms\n"
     ]
    },
    {
     "data": {
      "text/plain": [
       "[Poly(x**2 + y**2 + z**2 - 4, x, y, z, domain='QQ'),\n",
       " Poly(x**2 + 2*y**2 - 5, x, y, z, domain='QQ'),\n",
       " Poly(x*z - 1, x, y, z, domain='QQ'),\n",
       " Poly(-y**2 + z**2 + 1, x, y, z, domain='QQ'),\n",
       " Poly(x + 2*z**3 - 3*z, x, y, z, domain='QQ')]"
      ]
     },
     "execution_count": 29,
     "metadata": {},
     "output_type": "execute_result"
    }
   ],
   "source": [
    "%%time\n",
    "BuchbergerAlgorithm(F, [x, y, z], term_order)"
   ]
  },
  {
   "cell_type": "code",
   "execution_count": 30,
   "metadata": {},
   "outputs": [
    {
     "name": "stdout",
     "output_type": "stream",
     "text": [
      "CPU times: user 176 ms, sys: 2.06 ms, total: 178 ms\n",
      "Wall time: 177 ms\n"
     ]
    },
    {
     "data": {
      "text/plain": [
       "[Poly(x**2 + y**2 + z**2 - 4, x, y, z, domain='QQ'),\n",
       " Poly(x**2 + 2*y**2 - 5, x, y, z, domain='QQ'),\n",
       " Poly(x*z - 1, x, y, z, domain='QQ'),\n",
       " Poly(-y**2 + z**2 + 1, x, y, z, domain='QQ'),\n",
       " Poly(x + 2*z**3 - 3*z, x, y, z, domain='QQ')]"
      ]
     },
     "execution_count": 30,
     "metadata": {},
     "output_type": "execute_result"
    }
   ],
   "source": [
    "%%time\n",
    "BuchbergerAlgorithm_normalStrategy(F, [x, y, z], term_order)"
   ]
  },
  {
   "cell_type": "markdown",
   "metadata": {},
   "source": [
    "## suger strategy"
   ]
  },
  {
   "cell_type": "markdown",
   "metadata": {},
   "source": [
    "**[再掲]　suger strategy (by CoCoA開発者)**\n",
    "- S-polynomialに対して，以下で定義されるsuger $s$ の小さい順に選択.　sugerが等しい場合には，normal strategyに基づいて選択する．\n",
    "    - 入力多項式$f$に対し，$$ s_j = tdeg(f)$$\n",
    "    - tが単項式のとき，$$ s_{tf} = s_{f} + tdeg(t)$$\n",
    "    - 多項式の加法に関して，$$s_{f+g} = \\max(s_f, s_g)$$"
   ]
  },
  {
   "cell_type": "markdown",
   "metadata": {},
   "source": [
    "これに伴い，正規化とS-polynomialの計算を定義し直す．"
   ]
  },
  {
   "cell_type": "code",
   "execution_count": 31,
   "metadata": {},
   "outputs": [],
   "source": [
    "def normalization_withSugar(f_and_sugar, G, variable_order, term_order=LexOrder):\n",
    "    from sympy.solvers.diophantine import divisible\n",
    "    f, f_sugar = f_and_sugar[0], f_and_sugar[1]\n",
    "    break_flag = False\n",
    "    all_through_flag = True\n",
    "    while True:\n",
    "        f_list = to_monomial_list(f)\n",
    "        for g, g_sugar in G:\n",
    "            _g = term_order(g, variable_order)\n",
    "            ht_g = _g.head_term\n",
    "            for monomial_f in f_list:\n",
    "                if divisible(monomial_f, ht_g):\n",
    "                    monomialF_over_hmG = quo(monomial_f, _g.head_monomial)\n",
    "                    h = f - monomialF_over_hmG * g\n",
    "                    h_sugar = max(f_sugar, g_sugar + total_degree(monomialF_over_hmG))\n",
    "                    f, f_sugar = h, h_sugar\n",
    "                    if f == 0:\n",
    "                        return f, f_sugar\n",
    "                    break_flag = True\n",
    "                    all_through_flag = False\n",
    "                    break\n",
    "            if break_flag:\n",
    "                break_flag = False\n",
    "                break\n",
    "        if all_through_flag:\n",
    "            return f, f_sugar\n",
    "        all_through_flag = True"
   ]
  },
  {
   "cell_type": "code",
   "execution_count": 32,
   "metadata": {},
   "outputs": [],
   "source": [
    "def S_polynomial_withSugar(f_and_sugar, g_and_sugar, variable_order, term_order=LexOrder):\n",
    "    f, f_sugar = term_order(f_and_sugar[0], variable_order), f_and_sugar[1]\n",
    "    g, g_sugar = term_order(g_and_sugar[0], variable_order), g_and_sugar[1]\n",
    "    LCM = lcm(f.head_term, g.head_term)\n",
    "    LCM_over_htF, LCM_over_htG = quo(LCM, f.head_monomial), quo(LCM, g.head_monomial)\n",
    "    Spoly = LCM_over_htF * f.poly() - LCM_over_htG * g.poly()\n",
    "    sugar = max(total_degree(LCM_over_htF) + f_sugar, total_degree(LCM_over_htG) + g_sugar)\n",
    "    return Spoly, sugar"
   ]
  },
  {
   "cell_type": "code",
   "execution_count": 33,
   "metadata": {},
   "outputs": [],
   "source": [
    "def BuchbergerAlgorithm_sugarStrategy(F, variable_order, term_order=LexOrder):\n",
    "    G = [(F[0], total_degree(F[0]))]\n",
    "    P = []\n",
    "    F = F[1:]\n",
    "    m = 0\n",
    "    while len(F) != 0:\n",
    "        f = F[0]\n",
    "        G.append((f, total_degree(f)))\n",
    "        F = F[1:]\n",
    "        P = Update_criteria2_sugarStrategy(P, m, G, variable_order, term_order)\n",
    "        #print(P, '\\n-----------')\n",
    "        m += 1\n",
    "    while len(P) != 0:\n",
    "        i, j = P[0][0][0], P[0][0][1]\n",
    "        f, f_sugar = term_order(G[i][0], variable_order), G[i][1]\n",
    "        g, g_sugar = term_order(G[j][0], variable_order), G[j][1]\n",
    "        P = P[1:]\n",
    "        Spoly, SpolySugar = S_polynomial_withSugar([f.poly(), f_sugar], [g.poly(), g_sugar], variable_order, term_order)\n",
    "        r, r_sugar = normalization_withSugar([Spoly, SpolySugar], G, variable_order, term_order)\n",
    "        if r != 0:\n",
    "            G.append((r, r_sugar))\n",
    "            P = Update_criteria2_sugarStrategy(P, m, G, variable_order, term_order)\n",
    "            #print(P, '\\n-----------')\n",
    "            m += 1\n",
    "    GB = [G[i][0] for i in range(len(G))]\n",
    "    return GB"
   ]
  },
  {
   "cell_type": "code",
   "execution_count": 34,
   "metadata": {},
   "outputs": [],
   "source": [
    "def Update_criteria2_sugarStrategy(P, m, G, variable_order, term_order=LexOrder):\n",
    "    from sympy.solvers.diophantine import divisible\n",
    "    if term_order == LexOrder:\n",
    "        order_key = 'lex'\n",
    "    elif term_order == GLexOrder:\n",
    "        order_key = 'grlex'\n",
    "    elif term_order == GrevLexOrder:\n",
    "        order_key = 'grevlex'\n",
    "    g_mp1, g_mp1_sugar = G[m+1][0], G[m+1][1]\n",
    "    \n",
    "    ht_g_mp1 = term_order(G[m+1][0], variable_order).head_term\n",
    "    # B成立を除去\n",
    "    for (i, j), (_, LCM_ij) in P:\n",
    "        ht_g_i = term_order(G[i][0], variable_order).head_term\n",
    "        ht_g_j = term_order(G[j][0], variable_order).head_term\n",
    "        #LCM_ij = lcm(ht_g_i, ht_g_j)\n",
    "        if divisible(LCM_ij, ht_g_mp1):\n",
    "            if LCM_ij != lcm(ht_g_i, ht_g_mp1):\n",
    "                if LCM_ij != lcm(ht_g_j, ht_g_mp1):\n",
    "                    P.remove(((i, j), (_, LCM_ij)))\n",
    "    for i in range(m+1):\n",
    "        continue_flag = False\n",
    "        g_i, g_i_sugar = G[i][0], G[i][1]\n",
    "        ht_g_i = term_order(G[i][0], variable_order).head_term\n",
    "        LCM_i_mp1 = lcm(ht_g_i, ht_g_mp1)\n",
    "        # F成立を確認\n",
    "        for k in range(i):\n",
    "            ht_g_k = term_order(G[k][0], variable_order).head_term\n",
    "            if lcm(ht_g_k, ht_g_mp1) == LCM_i_mp1:\n",
    "                continue_flag = True\n",
    "                break\n",
    "        if continue_flag:\n",
    "            continue\n",
    "        # M成立を確認\n",
    "        for k in range(m+1):\n",
    "            if k == i:\n",
    "                # k not= \"i\" ?\n",
    "                continue\n",
    "            ht_g_k = term_order(G[k][0], variable_order).head_term\n",
    "            if divisible(LCM_i_mp1, ht_g_k):\n",
    "                if lcm(ht_g_mp1, ht_g_k) != LCM_i_mp1:\n",
    "                    continue_flag = True\n",
    "                    break\n",
    "        if continue_flag:\n",
    "            continue\n",
    "        # Criteria1 check\n",
    "        if LCM_i_mp1 != ht_g_i * ht_g_mp1:\n",
    "            Spoly, SpolySugar = S_polynomial_withSugar([g_i, g_i_sugar], [g_mp1, g_mp1_sugar], variable_order, term_order)\n",
    "            if len(P) == 0:\n",
    "                P.append(((i, m+1), (SpolySugar, LCM_i_mp1)))\n",
    "                continue\n",
    "            else:\n",
    "                for k in range(len(P)):\n",
    "                    comparison_SpolySugar, comparison_ht_LCM = P[k][1][0], P[k][1][1]\n",
    "                    if SpolySugar < comparison_SpolySugar:\n",
    "                        P.insert(k, ((i, m+1), (SpolySugar, LCM_i_mp1)))\n",
    "                    elif SpolySugar == comparison_SpolySugar:\n",
    "                        larger_one = (LCM_i_mp1 + comparison_ht_LCM).as_expr().as_ordered_terms(order=order_key)[0]\n",
    "                        LCM_is_large = larger_one == LCM_i_mp1.as_expr()\n",
    "                        if LCM_is_large:\n",
    "                            continue\n",
    "                        else:\n",
    "                            P.insert(k, ((i, m+1), (SpolySugar, LCM_i_mp1)))\n",
    "                            break\n",
    "                if k == len(P) - 1:\n",
    "                    P.append(((i, m+1), (SpolySugar, LCM_i_mp1)))\n",
    "    return P"
   ]
  },
  {
   "cell_type": "code",
   "execution_count": 35,
   "metadata": {},
   "outputs": [],
   "source": [
    "f = Poly(x**2 + y**2 + z**2 - 4, (x, y, z), domain=QQ)\n",
    "g = Poly(x**2 + 2*y**2 -5, (x, y, z), domain=QQ)\n",
    "h = Poly(x*z - 1, (x, y, z), domain=QQ)\n",
    "F = [f, g, h]\n",
    "variable_order = [x, y, z]\n",
    "term_order = GLexOrder"
   ]
  },
  {
   "cell_type": "code",
   "execution_count": 36,
   "metadata": {},
   "outputs": [
    {
     "data": {
      "text/latex": [
       "$\\displaystyle GroebnerBasis\\left(\\left( \\operatorname{Poly}{\\left( x + 2 z^{3} - 3 z, x, y, z, domain=\\mathbb{Z} \\right)}, \\  \\operatorname{Poly}{\\left( x^{2} + 2 z^{2} - 3, x, y, z, domain=\\mathbb{Z} \\right)}, \\  \\operatorname{Poly}{\\left( xz - 1, x, y, z, domain=\\mathbb{Z} \\right)}, \\  \\operatorname{Poly}{\\left( y^{2} - z^{2} - 1, x, y, z, domain=\\mathbb{Z} \\right)}\\right), \\left( x, \\  y, \\  z\\right)\\right)$"
      ],
      "text/plain": [
       "GroebnerBasis([2*z**3 + x - 3*z, x**2 + 2*z**2 - 3, x*z - 1, y**2 - z**2 - 1], x, y, z, domain='ZZ', order='grlex')"
      ]
     },
     "metadata": {},
     "output_type": "display_data"
    },
    {
     "name": "stdout",
     "output_type": "stream",
     "text": [
      "CPU times: user 6.07 ms, sys: 1.06 ms, total: 7.12 ms\n",
      "Wall time: 6.45 ms\n"
     ]
    }
   ],
   "source": [
    "%%time\n",
    "display(GroebnerBasis(F, x, y, z, order='grlex'))"
   ]
  },
  {
   "cell_type": "code",
   "execution_count": 37,
   "metadata": {},
   "outputs": [
    {
     "name": "stdout",
     "output_type": "stream",
     "text": [
      "[(0, 1), (0, 2), (1, 2)]\n",
      "CPU times: user 534 ms, sys: 4.44 ms, total: 538 ms\n",
      "Wall time: 537 ms\n"
     ]
    },
    {
     "data": {
      "text/plain": [
       "[Poly(x**2 + y**2 + z**2 - 4, x, y, z, domain='QQ'),\n",
       " Poly(x**2 + 2*y**2 - 5, x, y, z, domain='QQ'),\n",
       " Poly(x*z - 1, x, y, z, domain='QQ'),\n",
       " Poly(-y**2 + z**2 + 1, x, y, z, domain='QQ'),\n",
       " Poly(x + 2*z**3 - 3*z, x, y, z, domain='QQ')]"
      ]
     },
     "execution_count": 37,
     "metadata": {},
     "output_type": "execute_result"
    }
   ],
   "source": [
    "%%time\n",
    "BuchbergerAlgorithm(F, variable_order, term_order)"
   ]
  },
  {
   "cell_type": "code",
   "execution_count": 38,
   "metadata": {},
   "outputs": [
    {
     "name": "stdout",
     "output_type": "stream",
     "text": [
      "CPU times: user 192 ms, sys: 2.71 ms, total: 195 ms\n",
      "Wall time: 194 ms\n"
     ]
    },
    {
     "data": {
      "text/plain": [
       "[Poly(x**2 + y**2 + z**2 - 4, x, y, z, domain='QQ'),\n",
       " Poly(x**2 + 2*y**2 - 5, x, y, z, domain='QQ'),\n",
       " Poly(x*z - 1, x, y, z, domain='QQ'),\n",
       " Poly(-y**2 + z**2 + 1, x, y, z, domain='QQ'),\n",
       " Poly(x + 2*z**3 - 3*z, x, y, z, domain='QQ')]"
      ]
     },
     "execution_count": 38,
     "metadata": {},
     "output_type": "execute_result"
    }
   ],
   "source": [
    "%%time\n",
    "BuchbergerAlgorithm_criteria2(F, variable_order, term_order)"
   ]
  },
  {
   "cell_type": "code",
   "execution_count": 39,
   "metadata": {},
   "outputs": [
    {
     "name": "stdout",
     "output_type": "stream",
     "text": [
      "CPU times: user 198 ms, sys: 2.41 ms, total: 201 ms\n",
      "Wall time: 199 ms\n"
     ]
    },
    {
     "data": {
      "text/plain": [
       "[Poly(x**2 + y**2 + z**2 - 4, x, y, z, domain='QQ'),\n",
       " Poly(x**2 + 2*y**2 - 5, x, y, z, domain='QQ'),\n",
       " Poly(x*z - 1, x, y, z, domain='QQ'),\n",
       " Poly(-y**2 + z**2 + 1, x, y, z, domain='QQ'),\n",
       " Poly(x + 2*z**3 - 3*z, x, y, z, domain='QQ')]"
      ]
     },
     "execution_count": 39,
     "metadata": {},
     "output_type": "execute_result"
    }
   ],
   "source": [
    "%%time\n",
    "BuchbergerAlgorithm_sugarStrategy(F, variable_order, term_order)"
   ]
  },
  {
   "cell_type": "markdown",
   "metadata": {},
   "source": [
    "---\n",
    "---"
   ]
  },
  {
   "cell_type": "markdown",
   "metadata": {},
   "source": [
    "# 比較\n",
    "---"
   ]
  },
  {
   "cell_type": "markdown",
   "metadata": {},
   "source": [
    "## 汎用のアルゴリズム（Criteria, Selection strategy の指定）"
   ]
  },
  {
   "cell_type": "code",
   "execution_count": 40,
   "metadata": {},
   "outputs": [],
   "source": [
    "def myGroebnerBasis(F, variable_order, term_order, criteria='none', selection_strategy='append'):\n",
    "    try:\n",
    "        if selection_strategy == 'sugar':\n",
    "            return BuchbergerAlgorithm_withSugar(F, variable_order, term_order, criteria, selection_strategy)\n",
    "        else:\n",
    "            return BuchbergerAlgorithm_nonSugar(F, variable_order, term_order, criteria, selection_strategy)\n",
    "    except ValueError:\n",
    "        raise('Keyword is wrong. criteria=\"none\", \"criteria1\" or\"criteria2\". selection_strategy=\"append\", \"normal\" or \"sugar\" ')"
   ]
  },
  {
   "cell_type": "code",
   "execution_count": 41,
   "metadata": {},
   "outputs": [],
   "source": [
    "def minimizeAndNormalization(G, variable_order, term_order):\n",
    "    from sympy.solvers.diophantine import divisible\n",
    "    #G_copy = G.copy()\n",
    "    for g in G:\n",
    "        _G = G.copy()\n",
    "        _G.remove(g)\n",
    "        g = term_order(g, variable_order)\n",
    "        for _g in _G:\n",
    "            _g = term_order(_g, variable_order)\n",
    "            if divisible(_g.head_term, g.head_term):\n",
    "                G.remove(_g.poly())\n",
    "    # reduction\n",
    "    g_index = -1\n",
    "    for g in G:\n",
    "        g_index += 1\n",
    "        _G = G.copy()\n",
    "        _G.remove(g)\n",
    "        g = term_order(g, variable_order)\n",
    "        g = normalization(g.poly(), _G, variable_order, term_order)\n",
    "        g_coeffs_list = g.coeffs()\n",
    "        q_list = []\n",
    "        for coeffs in g_coeffs_list:\n",
    "            if coeffs.q != 1:\n",
    "                q_list.append(coeffs.q)\n",
    "        if len(q_list) != 0:\n",
    "            #g *= Rational(1, lcm(q_list))\n",
    "            g *= lcm(q_list)\n",
    "        if term_order(g, variable_order).head_coefficient.as_expr() < 0:\n",
    "            g *= -1\n",
    "        G[g_index] = g"
   ]
  },
  {
   "cell_type": "code",
   "execution_count": 42,
   "metadata": {},
   "outputs": [],
   "source": [
    "def BuchbergerAlgorithm_nonSugar(F, variable_order, term_order, criteria, selection_strategy):\n",
    "    Update = {'none': Update_normal, 'criteria1': Update_criteria1, 'criteria2': Update_criteria2}\n",
    "    #strategy = {'append': append_strategy, 'normal': normal_strategy, 'suger': sugar_strategy}\n",
    "    \n",
    "    G = [F[0]]\n",
    "    P = []\n",
    "    F = F[1:]\n",
    "    m = 0\n",
    "    Update_function = Update[criteria]\n",
    "    while len(F) != 0:\n",
    "        G.append(F[0])\n",
    "        F = F[1:]\n",
    "        P = Update_function(P, m, G, variable_order, term_order, selection_strategy)\n",
    "        m += 1\n",
    "    while len(P) != 0:\n",
    "        if selection_strategy == 'append':\n",
    "            i, j = P[0][0], P[0][1]\n",
    "        else:\n",
    "            i, j = P[0][0][0], P[0][0][1]\n",
    "        #print(i, j)\n",
    "        f, g = term_order(G[i], variable_order), term_order(G[j], variable_order)\n",
    "        #print(f.poly(), g.poly())\n",
    "        P = P[1:]\n",
    "        r = normalization(S_polynomial(f.poly(), g.poly(), variable_order, term_order), G, variable_order, term_order)\n",
    "        if r != 0:\n",
    "            G.append(r)\n",
    "            P = Update_function(P, m, G, variable_order, term_order, selection_strategy)\n",
    "            m += 1\n",
    "    minimizeAndNormalization(G, variable_order, term_order)\n",
    "    return G"
   ]
  },
  {
   "cell_type": "code",
   "execution_count": 43,
   "metadata": {},
   "outputs": [],
   "source": [
    "def BuchbergerAlgorithm_withSugar(F, variable_order, term_order, criteria, selection_strategy):\n",
    "    Update = {'none': Update_normal, 'criteria1': Update_criteria1, 'criteria2': Update_criteria2}\n",
    "    #strategy = {'append': append_strategy, 'normal': normal_strategy, 'sugar': sugar_strategy}\n",
    "    \n",
    "    G = [(F[0], total_degree(F[0]))]\n",
    "    P = []\n",
    "    F = F[1:]\n",
    "    m = 0\n",
    "    Update_function = Update[criteria]\n",
    "    while len(F) != 0:\n",
    "        f = F[0]\n",
    "        G.append((f, total_degree(f)))\n",
    "        F = F[1:]\n",
    "        P = Update_function(P, m, G, variable_order, term_order, selection_strategy)\n",
    "        #print([P[i][1][0] for i in range(len(P))])\n",
    "        m += 1\n",
    "    while len(P) != 0:\n",
    "        i, j = P[0][0][0], P[0][0][1]\n",
    "        f, f_sugar = term_order(G[i][0], variable_order), G[i][1]\n",
    "        g, g_sugar = term_order(G[j][0], variable_order), G[j][1]\n",
    "        P = P[1:]\n",
    "        Spoly, SpolySugar = S_polynomial_withSugar([f.poly(), f_sugar], [g.poly(), g_sugar], \n",
    "                                                   variable_order, term_order)\n",
    "        r, r_sugar = normalization_withSugar([Spoly, SpolySugar], G, variable_order, term_order)\n",
    "        if r != 0:\n",
    "            G.append((r, r_sugar))\n",
    "            #P = Update_criteria2_sugarStrategy(P, m, G, variable_order, term_order)\n",
    "            P = Update_function(P, m, G, variable_order, term_order, selection_strategy)\n",
    "            #print(P, '\\n-----------')\n",
    "            m += 1\n",
    "    GB = [G[i][0] for i in range(len(G))]\n",
    "    minimizeAndNormalization(GB, variable_order, term_order)\n",
    "    return GB"
   ]
  },
  {
   "cell_type": "code",
   "execution_count": 44,
   "metadata": {},
   "outputs": [],
   "source": [
    "def Update_normal(P, m, G, variable_order, term_order, selection_strategy):\n",
    "    strategy = {'append': append_strategy, 'normal': normal_strategy, 'sugar': sugar_strategy}\n",
    "    strategy_function = strategy[selection_strategy]\n",
    "    for i in range(m+1):\n",
    "        P = strategy_function(P, m, G, variable_order, term_order, i)\n",
    "    #print(P)\n",
    "    return P"
   ]
  },
  {
   "cell_type": "code",
   "execution_count": 45,
   "metadata": {},
   "outputs": [],
   "source": [
    "def Update_criteria1(P, m, G, variable_order, term_order, selection_strategy):\n",
    "    strategy = {'append': append_strategy, 'normal': normal_strategy, 'sugar': sugar_strategy}\n",
    "    strategy_function = strategy[selection_strategy]\n",
    "    if selection_strategy == 'sugar':\n",
    "        g_mp1 = term_order(G[m+1][0], variable_order)\n",
    "    else:\n",
    "        g_mp1 = term_order(G[m+1], variable_order)\n",
    "    ht_g_mp1 = g_mp1.head_term\n",
    "    for i in range(m+1):\n",
    "        if selection_strategy == 'sugar':\n",
    "            g_i = term_order(G[i][0], variable_order)\n",
    "        else:\n",
    "            g_i = term_order(G[i], variable_order)\n",
    "        ht_g_i = g_i.head_term\n",
    "        if lcm(ht_g_mp1, ht_g_i) != ht_g_mp1 * ht_g_i:\n",
    "            P = strategy_function(P, m, G, variable_order, term_order, i)\n",
    "            #P = strategy_function\n",
    "    return P"
   ]
  },
  {
   "cell_type": "code",
   "execution_count": 46,
   "metadata": {},
   "outputs": [],
   "source": [
    "def Update_criteria2(P, m, G, variable_order, term_order, selection_strategy):\n",
    "    strategy = {'append': append_strategy, 'normal': normal_strategy, 'sugar': sugar_strategy}\n",
    "    strategy_function = strategy[selection_strategy]\n",
    "    from sympy.solvers.diophantine import divisible\n",
    "    if selection_strategy == 'sugar':\n",
    "         ht_g_mp1 = term_order(G[m+1][0], variable_order).head_term\n",
    "    else:\n",
    "         ht_g_mp1 = term_order(G[m+1], variable_order).head_term\n",
    "    # B成立を除去\n",
    "    P_index = -1\n",
    "    for i1, i2 in P:\n",
    "        P_index += 1\n",
    "        if selection_strategy == 'append':\n",
    "            i, j = i1, i2\n",
    "        else:\n",
    "            i, j = i1[0], i1[1]\n",
    "        if selection_strategy == 'sugar':\n",
    "            ht_g_i = term_order(G[i][0], variable_order).head_term\n",
    "            ht_g_j = term_order(G[j][0], variable_order).head_term\n",
    "        else:\n",
    "            ht_g_i = term_order(G[i], variable_order).head_term\n",
    "            ht_g_j = term_order(G[j], variable_order).head_term\n",
    "        if divisible(lcm(ht_g_i, ht_g_j), ht_g_mp1):\n",
    "            if lcm(ht_g_i, ht_g_j) != lcm(ht_g_i, ht_g_mp1):\n",
    "                if lcm(ht_g_i, ht_g_j) != lcm(ht_g_j, ht_g_mp1):\n",
    "                    del P[P_index]\n",
    "    for i in range(m+1):\n",
    "        continue_flag = False\n",
    "        if selection_strategy == 'sugar':\n",
    "            ht_g_i = term_order(G[i][0], variable_order).head_term\n",
    "        else:\n",
    "            ht_g_i = term_order(G[i], variable_order).head_term\n",
    "        # F成立を確認\n",
    "        for k in range(i):\n",
    "            if selection_strategy == 'sugar':\n",
    "                ht_g_k = term_order(G[k][0], variable_order).head_term\n",
    "            else:\n",
    "                ht_g_k = term_order(G[k], variable_order).head_term\n",
    "            if lcm(ht_g_k, ht_g_mp1) == lcm(ht_g_i, ht_g_mp1):\n",
    "                continue_flag = True\n",
    "                break\n",
    "        if continue_flag:\n",
    "            continue\n",
    "        # M成立を確認\n",
    "        for k in range(m+1):\n",
    "            if k == i:\n",
    "                # k not= \"i\" ?\n",
    "                continue\n",
    "            if selection_strategy == 'sugar':\n",
    "                ht_g_k = term_order(G[k][0], variable_order).head_term\n",
    "            else:\n",
    "                ht_g_k = term_order(G[k], variable_order).head_term\n",
    "            if divisible(lcm(ht_g_i, ht_g_mp1), ht_g_k):\n",
    "                if lcm(ht_g_mp1, ht_g_k) != lcm(ht_g_i, ht_g_mp1):\n",
    "                    continue_flag = True\n",
    "                    break\n",
    "        if continue_flag:\n",
    "            continue\n",
    "        # Criteria1 check\n",
    "        if lcm(ht_g_i, ht_g_mp1) != ht_g_i * ht_g_mp1:\n",
    "            P = strategy_function(P, m, G, variable_order, term_order, i)\n",
    "            #P = strategy_function\n",
    "    return P"
   ]
  },
  {
   "cell_type": "code",
   "execution_count": 47,
   "metadata": {},
   "outputs": [],
   "source": [
    "def append_strategy(P, m, G, variable_order, term_order, i):\n",
    "    # 入ってきたPを適切な順番に並び替える.\n",
    "    P.append((i, m+1))\n",
    "    return P"
   ]
  },
  {
   "cell_type": "code",
   "execution_count": 48,
   "metadata": {},
   "outputs": [],
   "source": [
    "def normal_strategy(P, m, G, variable_order, term_order, i):\n",
    "    # 入ってきたPを適切な順番に並び替える．\n",
    "    if term_order == LexOrder:\n",
    "        order_key = 'lex'\n",
    "    elif term_order == GLexOrder:\n",
    "        order_key = 'grlex'\n",
    "    elif term_order == GrevLexOrder:\n",
    "        order_key = 'grevlex'\n",
    "    ht_g_i = term_order(G[i], variable_order).head_term\n",
    "    ht_g_mp1 = term_order(G[m+1], variable_order).head_term\n",
    "    LCM_i_mp1 = lcm(ht_g_i, ht_g_mp1)\n",
    "    if len(P) == 0:\n",
    "        P.append(((i, m+1), LCM_i_mp1))\n",
    "    for k in range(len(P)):\n",
    "        larger_one = (LCM_i_mp1 + P[k][1]).as_expr().as_ordered_terms(order=order_key)[0]\n",
    "        LCM_is_large = larger_one == LCM_i_mp1.as_expr()\n",
    "        if LCM_is_large:\n",
    "            continue\n",
    "        else:\n",
    "            P.insert(k, ((i, m+1), LCM_i_mp1))\n",
    "            break\n",
    "    else:\n",
    "        P.append(((i, m+1), LCM_i_mp1))\n",
    "    return P"
   ]
  },
  {
   "cell_type": "code",
   "execution_count": 49,
   "metadata": {},
   "outputs": [],
   "source": [
    "def sugar_strategy(P, m, G, variable_order, term_order, i):\n",
    "    # 入ってきたPを適切な順番に並び替える．\n",
    "    # Criteria1 check\n",
    "    #if LCM_i_mp1 != ht_g_i * ht_g_mp1:\n",
    "    if term_order == LexOrder:\n",
    "        order_key = 'lex'\n",
    "    elif term_order == GLexOrder:\n",
    "        order_key = 'grlex'\n",
    "    elif term_order == GrevLexOrder:\n",
    "        order_key = 'grevlex'\n",
    "    g_i, g_i_sugar = term_order(G[i][0], variable_order), G[i][1]\n",
    "    g_mp1, g_mp1_sugar = term_order(G[m+1][0], variable_order), G[m+1][1]\n",
    "    Spoly, SpolySugar = S_polynomial_withSugar([g_i.poly(), g_i_sugar], [g_mp1.poly(), g_mp1_sugar],\n",
    "                                               variable_order, term_order)\n",
    "    LCM_i_mp1 = lcm(g_i.head_term, g_mp1.head_term)\n",
    "    if len(P) == 0:\n",
    "        P.append(((i, m+1), (SpolySugar, LCM_i_mp1)))\n",
    "    else:\n",
    "        for k in range(len(P)):\n",
    "            comparison_SpolySugar, comparison_ht_LCM = P[k][1][0], P[k][1][1]\n",
    "            if SpolySugar < comparison_SpolySugar:\n",
    "                P.insert(k, ((i, m+1), (SpolySugar, LCM_i_mp1)))\n",
    "            elif SpolySugar == comparison_SpolySugar:\n",
    "                larger_one = (LCM_i_mp1 + comparison_ht_LCM).as_expr().as_ordered_terms(order=order_key)[0]\n",
    "                LCM_is_large = larger_one == LCM_i_mp1.as_expr()\n",
    "                if LCM_is_large:\n",
    "                    continue\n",
    "                else:\n",
    "                    P.insert(k, ((i, m+1), (SpolySugar, LCM_i_mp1)))\n",
    "                    break\n",
    "        if k == len(P) - 1:\n",
    "            P.append(((i, m+1), (SpolySugar, LCM_i_mp1)))\n",
    "    return P"
   ]
  },
  {
   "cell_type": "code",
   "execution_count": null,
   "metadata": {},
   "outputs": [],
   "source": []
  },
  {
   "cell_type": "code",
   "execution_count": 50,
   "metadata": {},
   "outputs": [],
   "source": [
    "f = Poly(x**2 + y**2 + z**2 - 4, (x, y, z), domain=QQ)\n",
    "g = Poly(x**2 + 2*y**2 -5, (x, y, z), domain=QQ)\n",
    "h = Poly(x*z - 1, (x, y, z), domain=QQ)\n",
    "F = [f, g, h]\n",
    "variable_order = [x, y, z]\n",
    "term_order = LexOrder"
   ]
  },
  {
   "cell_type": "code",
   "execution_count": 51,
   "metadata": {},
   "outputs": [
    {
     "name": "stdout",
     "output_type": "stream",
     "text": [
      "CPU times: user 454 ms, sys: 3.94 ms, total: 458 ms\n",
      "Wall time: 459 ms\n"
     ]
    },
    {
     "data": {
      "text/plain": [
       "[Poly(y**2 - z**2 - 1, x, y, z, domain='QQ'),\n",
       " Poly(x + 2*z**3 - 3*z, x, y, z, domain='QQ'),\n",
       " Poly(2*z**4 - 3*z**2 + 1, x, y, z, domain='QQ')]"
      ]
     },
     "execution_count": 51,
     "metadata": {},
     "output_type": "execute_result"
    }
   ],
   "source": [
    "%%time\n",
    "myGroebnerBasis(F, variable_order, term_order, criteria='criteria2', selection_strategy='sugar')"
   ]
  },
  {
   "cell_type": "code",
   "execution_count": 52,
   "metadata": {},
   "outputs": [
    {
     "data": {
      "text/latex": [
       "$\\displaystyle GroebnerBasis\\left(\\left( \\operatorname{Poly}{\\left( x + 2 z^{3} - 3 z, x, y, z, domain=\\mathbb{Z} \\right)}, \\  \\operatorname{Poly}{\\left( y^{2} - z^{2} - 1, x, y, z, domain=\\mathbb{Z} \\right)}, \\  \\operatorname{Poly}{\\left( 2 z^{4} - 3 z^{2} + 1, x, y, z, domain=\\mathbb{Z} \\right)}\\right), \\left( x, \\  y, \\  z\\right)\\right)$"
      ],
      "text/plain": [
       "GroebnerBasis([x + 2*z**3 - 3*z, y**2 - z**2 - 1, 2*z**4 - 3*z**2 + 1], x, y, z, domain='ZZ', order='lex')"
      ]
     },
     "execution_count": 52,
     "metadata": {},
     "output_type": "execute_result"
    }
   ],
   "source": [
    "GroebnerBasis(F, x, y, z, order='lex')"
   ]
  },
  {
   "cell_type": "markdown",
   "metadata": {},
   "source": [
    "## ベンチマーク（cyclic）"
   ]
  },
  {
   "cell_type": "code",
   "execution_count": 54,
   "metadata": {},
   "outputs": [],
   "source": [
    "def cyclicPoly(n):\n",
    "    variables = [Symbol('x' + str(i)) for i in range(n)]\n",
    "    #variables = [Symbol('x'), Symbol('y'), Symbol('z'), Symbol('t'), Symbol('u')]\n",
    "    F = []\n",
    "    for k in range(n):\n",
    "        delta = Integer((k+1)==n)\n",
    "        sum_f = Poly(0, variables, domain=QQ)\n",
    "        for i in range(n):\n",
    "            mul_f = Poly(1, variables, domain=QQ)\n",
    "            for j in range(i, k+i+1):\n",
    "                x_index = (j+1)%n - 1\n",
    "                mul_f *= variables[x_index]\n",
    "            sum_f += mul_f\n",
    "            if k == n-1:\n",
    "                break\n",
    "        f = sum_f - delta\n",
    "        F.append(f)\n",
    "    return F"
   ]
  },
  {
   "cell_type": "code",
   "execution_count": 55,
   "metadata": {},
   "outputs": [
    {
     "name": "stdout",
     "output_type": "stream",
     "text": [
      "CPU times: user 16.8 ms, sys: 855 µs, total: 17.6 ms\n",
      "Wall time: 17.3 ms\n"
     ]
    },
    {
     "data": {
      "text/plain": [
       "[Poly(x0 + x1 + x2 + x3 + x4, x0, x1, x2, x3, x4, domain='QQ'),\n",
       " Poly(x0*x1 + x0*x4 + x1*x2 + x2*x3 + x3*x4, x0, x1, x2, x3, x4, domain='QQ'),\n",
       " Poly(x0*x1*x2 + x0*x1*x4 + x0*x3*x4 + x1*x2*x3 + x2*x3*x4, x0, x1, x2, x3, x4, domain='QQ'),\n",
       " Poly(x0*x1*x2*x3 + x0*x1*x2*x4 + x0*x1*x3*x4 + x0*x2*x3*x4 + x1*x2*x3*x4, x0, x1, x2, x3, x4, domain='QQ'),\n",
       " Poly(x0*x1*x2*x3*x4 - 1, x0, x1, x2, x3, x4, domain='QQ')]"
      ]
     },
     "execution_count": 55,
     "metadata": {},
     "output_type": "execute_result"
    }
   ],
   "source": [
    "%%time\n",
    "cyclicPoly(5)"
   ]
  },
  {
   "cell_type": "code",
   "execution_count": 56,
   "metadata": {},
   "outputs": [
    {
     "data": {
      "text/plain": [
       "\"cyclic_degree = [3, 5]\\niternum = 1\\ncriteria_keys = ['none', 'criteria1', 'criteria2']\\nstrategy_keys = ['append', 'normal', 'sugar']\\nterm_order = GrevLexOrder\\n\\nkey_list = []\\nfor c_key in criteria_keys:\\n    for s_key in strategy_keys:\\n        key_list.append((c_key, s_key))\\nprint(key_list)\""
      ]
     },
     "execution_count": 56,
     "metadata": {},
     "output_type": "execute_result"
    }
   ],
   "source": [
    "\"\"\"cyclic_degree = [3, 5]\n",
    "iternum = 1\n",
    "criteria_keys = ['none', 'criteria1', 'criteria2']\n",
    "strategy_keys = ['append', 'normal', 'sugar']\n",
    "term_order = GrevLexOrder\n",
    "\n",
    "key_list = []\n",
    "for c_key in criteria_keys:\n",
    "    for s_key in strategy_keys:\n",
    "        key_list.append((c_key, s_key))\n",
    "print(key_list)\"\"\""
   ]
  },
  {
   "cell_type": "code",
   "execution_count": 57,
   "metadata": {},
   "outputs": [
    {
     "name": "stdout",
     "output_type": "stream",
     "text": [
      "CPU times: user 2 µs, sys: 0 ns, total: 2 µs\n",
      "Wall time: 4.05 µs\n"
     ]
    },
    {
     "data": {
      "text/plain": [
       "'\"\"\"SymPyのGroebnerBasis\"\"\"\\nn = 5\\nF = cyclicPoly(n)\\nvariable_order = [Symbol(\\'x\\' + str(i)) for i in reversed(range(n))]\\nterm_order = GrevLexOrder\\nGroebnerBasis(F, variable_order, order=\\'grevlex\\')'"
      ]
     },
     "execution_count": 57,
     "metadata": {},
     "output_type": "execute_result"
    }
   ],
   "source": [
    "%%time\n",
    "'''\"\"\"SymPyのGroebnerBasis\"\"\"\n",
    "n = 5\n",
    "F = cyclicPoly(n)\n",
    "variable_order = [Symbol('x' + str(i)) for i in reversed(range(n))]\n",
    "term_order = GrevLexOrder\n",
    "GroebnerBasis(F, variable_order, order='grevlex')'''"
   ]
  },
  {
   "cell_type": "code",
   "execution_count": 58,
   "metadata": {},
   "outputs": [
    {
     "name": "stdout",
     "output_type": "stream",
     "text": [
      "CPU times: user 2 µs, sys: 1e+03 ns, total: 3 µs\n",
      "Wall time: 3.1 µs\n"
     ]
    },
    {
     "data": {
      "text/plain": [
       "'\"\"\"mySimpleGroebner\"\"\"\\nn = 5\\nF = cyclicPoly(n)\\nvariable_order = [Symbol(\\'x\\' + str(i)) for i in reversed(range(n))]\\nterm_order = GrevLexOrder\\n_BuchbergerAlgorithm(F, variable_order, term_order)'"
      ]
     },
     "execution_count": 58,
     "metadata": {},
     "output_type": "execute_result"
    }
   ],
   "source": [
    "%%time\n",
    "'''\"\"\"mySimpleGroebner\"\"\"\n",
    "n = 5\n",
    "F = cyclicPoly(n)\n",
    "variable_order = [Symbol('x' + str(i)) for i in reversed(range(n))]\n",
    "term_order = GrevLexOrder\n",
    "_BuchbergerAlgorithm(F, variable_order, term_order)'''"
   ]
  },
  {
   "cell_type": "code",
   "execution_count": 59,
   "metadata": {},
   "outputs": [
    {
     "name": "stdout",
     "output_type": "stream",
     "text": [
      "CPU times: user 333 ms, sys: 5.43 ms, total: 338 ms\n",
      "Wall time: 341 ms\n"
     ]
    },
    {
     "data": {
      "text/plain": [
       "[Poly(x0 + x1 + x2, x0, x1, x2, domain='QQ'),\n",
       " Poly(x0**2 + x0*x1 + x1**2, x0, x1, x2, domain='QQ'),\n",
       " Poly(x0**3 - 1, x0, x1, x2, domain='QQ')]"
      ]
     },
     "execution_count": 59,
     "metadata": {},
     "output_type": "execute_result"
    }
   ],
   "source": [
    "%%time\n",
    "\"\"\"myGroebnerBasis\"\"\"\n",
    "n = 3\n",
    "F = cyclicPoly(n)\n",
    "variable_order = [Symbol('x' + str(i)) for i in reversed(range(n))]\n",
    "term_order = GrevLexOrder\n",
    "myGroebnerBasis(F, variable_order, term_order, criteria='criteria2', selection_strategy='sugar')"
   ]
  },
  {
   "cell_type": "code",
   "execution_count": 60,
   "metadata": {},
   "outputs": [
    {
     "name": "stdout",
     "output_type": "stream",
     "text": [
      "CPU times: user 4.01 s, sys: 23.7 ms, total: 4.03 s\n",
      "Wall time: 4.05 s\n"
     ]
    },
    {
     "data": {
      "text/plain": [
       "[Poly(x0 + x1 + x2 + x3, x0, x1, x2, x3, domain='QQ'),\n",
       " Poly(x0**2 + 2*x0*x2 + x2**2, x0, x1, x2, x3, domain='QQ'),\n",
       " Poly(-x0**3 - x0**2*x2 + x0*x1**2 + x1**2*x2, x0, x1, x2, x3, domain='QQ'),\n",
       " Poly(-x0**4 + x0**3*x1 - x0**3*x2 + x0**2*x1**2 + x0**2*x1*x2 - 1, x0, x1, x2, x3, domain='QQ'),\n",
       " Poly(x0**5 + x0**4*x2 - x0 - x2, x0, x1, x2, x3, domain='QQ'),\n",
       " Poly(x0**3*x1**2 + x0**2*x1**3 - x0 - x1, x0, x1, x2, x3, domain='QQ'),\n",
       " Poly(x0**4*x1**2 - 2*x0**2 + x0*x1 - x0*x2 + x1*x2, x0, x1, x2, x3, domain='QQ')]"
      ]
     },
     "execution_count": 60,
     "metadata": {},
     "output_type": "execute_result"
    }
   ],
   "source": [
    "%%time\n",
    "\"\"\"myGroebnerBasis\"\"\"\n",
    "n = 4\n",
    "F = cyclicPoly(n)\n",
    "variable_order = [Symbol('x' + str(i)) for i in reversed(range(n))]\n",
    "term_order = GrevLexOrder\n",
    "myGroebnerBasis(F, variable_order, term_order, criteria='criteria2', selection_strategy='sugar')"
   ]
  },
  {
   "cell_type": "code",
   "execution_count": 61,
   "metadata": {},
   "outputs": [
    {
     "data": {
      "text/plain": [
       "\"import time\\nimport matplotlib.pyplot as plt\\n\\ntotal_time_list = []\\nfor criteria_key, strategy_key in key_list:\\n    total_time = []\\n    for n in cyclic_degree:\\n        F = cyclicPoly(n)\\n        variable_order = [Symbol('x' + str(i)) for i in reversed(range(n))]\\n        s_time = time.process_time()\\n        for i in range(iternum):\\n            GB = myGroebnerBasis(F, variable_order=variable_order, term_order=term_order, \\n                            criteria=criteria_key, selection_strategy=strategy_key)\\n        e_time = time.process_time()\\n        total_time.append((e_time - s_time)/iternum)\\n    total_time_list.append(total_time)\\n\\nfig, ax = plt.subplots()\\nx_list = cyclic_degree\\ntime_list_index = -1\\nfor criteria_key, strategy_key in key_list:\\n    time_list_index += 1\\n    ax.plot(x_list, total_time_list[time_list_index], label=criteria_ley + ' + ' + strategy_key)\\n    ax.legend()\\nax.set_xlabel('cyclic degree')\\nax.set_ylabel('time[sec]')\\nfig.tight_layout()\\nfig.show()\""
      ]
     },
     "execution_count": 61,
     "metadata": {},
     "output_type": "execute_result"
    }
   ],
   "source": [
    "\"\"\"import time\n",
    "import matplotlib.pyplot as plt\n",
    "\n",
    "total_time_list = []\n",
    "for criteria_key, strategy_key in key_list:\n",
    "    total_time = []\n",
    "    for n in cyclic_degree:\n",
    "        F = cyclicPoly(n)\n",
    "        variable_order = [Symbol('x' + str(i)) for i in reversed(range(n))]\n",
    "        s_time = time.process_time()\n",
    "        for i in range(iternum):\n",
    "            GB = myGroebnerBasis(F, variable_order=variable_order, term_order=term_order, \n",
    "                            criteria=criteria_key, selection_strategy=strategy_key)\n",
    "        e_time = time.process_time()\n",
    "        total_time.append((e_time - s_time)/iternum)\n",
    "    total_time_list.append(total_time)\n",
    "\n",
    "fig, ax = plt.subplots()\n",
    "x_list = cyclic_degree\n",
    "time_list_index = -1\n",
    "for criteria_key, strategy_key in key_list:\n",
    "    time_list_index += 1\n",
    "    ax.plot(x_list, total_time_list[time_list_index], label=criteria_ley + ' + ' + strategy_key)\n",
    "    ax.legend()\n",
    "ax.set_xlabel('cyclic degree')\n",
    "ax.set_ylabel('time[sec]')\n",
    "fig.tight_layout()\n",
    "fig.show()\"\"\""
   ]
  },
  {
   "cell_type": "code",
   "execution_count": null,
   "metadata": {},
   "outputs": [],
   "source": []
  },
  {
   "cell_type": "code",
   "execution_count": null,
   "metadata": {},
   "outputs": [],
   "source": []
  },
  {
   "cell_type": "code",
   "execution_count": null,
   "metadata": {},
   "outputs": [],
   "source": []
  },
  {
   "cell_type": "code",
   "execution_count": null,
   "metadata": {},
   "outputs": [],
   "source": []
  }
 ],
 "metadata": {
  "kernelspec": {
   "display_name": "Python 3",
   "language": "python",
   "name": "python3"
  },
  "language_info": {
   "codemirror_mode": {
    "name": "ipython",
    "version": 3
   },
   "file_extension": ".py",
   "mimetype": "text/x-python",
   "name": "python",
   "nbconvert_exporter": "python",
   "pygments_lexer": "ipython3",
   "version": "3.7.4"
  },
  "toc": {
   "base_numbering": 1,
   "nav_menu": {},
   "number_sections": true,
   "sideBar": true,
   "skip_h1_title": false,
   "title_cell": "Table of Contents",
   "title_sidebar": "Contents",
   "toc_cell": false,
   "toc_position": {
    "height": "calc(100% - 180px)",
    "left": "10px",
    "top": "150px",
    "width": "168.188px"
   },
   "toc_section_display": true,
   "toc_window_display": true
  }
 },
 "nbformat": 4,
 "nbformat_minor": 2
}
